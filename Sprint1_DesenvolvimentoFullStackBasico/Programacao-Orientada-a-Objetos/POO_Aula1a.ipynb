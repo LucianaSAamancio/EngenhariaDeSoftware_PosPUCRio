{
  "nbformat": 4,
  "nbformat_minor": 0,
  "metadata": {
    "colab": {
      "provenance": [],
      "toc_visible": true
    },
    "kernelspec": {
      "name": "python3",
      "display_name": "Python 3"
    },
    "language_info": {
      "name": "python"
    }
  },
  "cells": [
    {
      "cell_type": "markdown",
      "source": [
        "**Programação Orientada a Objetos**\n",
        "\n",
        "Prof. Tatiana Escovedo\n",
        "\n",
        "\n",
        "**Aula 01: Introdução a Python e Orientação a Objetos**\n",
        "\n",
        "Prática 1: Introdução à Linguagem Python"
      ],
      "metadata": {
        "id": "XtL2cwYOliv2"
      }
    },
    {
      "cell_type": "markdown",
      "source": [
        "# Primeiro Programa"
      ],
      "metadata": {
        "id": "xqSMrcf2pRoH"
      }
    },
    {
      "cell_type": "code",
      "execution_count": 1,
      "metadata": {
        "colab": {
          "base_uri": "https://localhost:8080/"
        },
        "id": "nOrLCimJlen6",
        "outputId": "41e90599-8f22-4586-dd8c-c3bf5dba115a"
      },
      "outputs": [
        {
          "output_type": "stream",
          "name": "stdout",
          "text": [
            "Hello, World!\n"
          ]
        }
      ],
      "source": [
        "# Isto é um comentário de apenas uma linha\n",
        "print(\"Hello, World!\")"
      ]
    },
    {
      "cell_type": "markdown",
      "source": [
        "## Zen do Python"
      ],
      "metadata": {
        "id": "rNsURCreq8zH"
      }
    },
    {
      "cell_type": "markdown",
      "source": [
        "O Zen do Python é um conjunto de 19 princípios que orientam o design e a filosofia da linguagem Python, escritas por Tim Peters.\n",
        "\n",
        "É uma coleção de aforismos que enfatizam a importância da legibilidade, simplicidade e clareza no código Python.\n",
        "\n",
        "Esses princípios são acessíveis dentro do interpretador Python ao digitar:"
      ],
      "metadata": {
        "id": "r63yQRXBrDre"
      }
    },
    {
      "cell_type": "code",
      "source": [
        "import this"
      ],
      "metadata": {
        "colab": {
          "base_uri": "https://localhost:8080/"
        },
        "id": "zcyd8qCkrPFb",
        "outputId": "d082075b-8499-46b8-9e05-305270e836d9"
      },
      "execution_count": 2,
      "outputs": [
        {
          "output_type": "stream",
          "name": "stdout",
          "text": [
            "The Zen of Python, by Tim Peters\n",
            "\n",
            "Beautiful is better than ugly.\n",
            "Explicit is better than implicit.\n",
            "Simple is better than complex.\n",
            "Complex is better than complicated.\n",
            "Flat is better than nested.\n",
            "Sparse is better than dense.\n",
            "Readability counts.\n",
            "Special cases aren't special enough to break the rules.\n",
            "Although practicality beats purity.\n",
            "Errors should never pass silently.\n",
            "Unless explicitly silenced.\n",
            "In the face of ambiguity, refuse the temptation to guess.\n",
            "There should be one-- and preferably only one --obvious way to do it.\n",
            "Although that way may not be obvious at first unless you're Dutch.\n",
            "Now is better than never.\n",
            "Although never is often better than *right* now.\n",
            "If the implementation is hard to explain, it's a bad idea.\n",
            "If the implementation is easy to explain, it may be a good idea.\n",
            "Namespaces are one honking great idea -- let's do more of those!\n"
          ]
        }
      ]
    },
    {
      "cell_type": "markdown",
      "source": [
        "**Principais Pontos do Zen do Python:**\n",
        "\n",
        "**Legibilidade e Simplicidade:**\n",
        "O Zen do Python enfatiza a importância da legibilidade e simplicidade do código, tornando-o mais fácil de entender e manter.\n",
        "\n",
        "**Clareza e Explícitação:**\n",
        "Os princípios incentivam a escrita de código claro e explícito, evitando ambiguidade e complexidade desnecessária.\n",
        "\n",
        "**Pragmatismo e Eficiência:**\n",
        "O Zen do Python também reconhece a importância da eficiência e do pragmatismo, incentivando os desenvolvedores a encontrar soluções que funcionem bem na prática.\n",
        "\n",
        "**Acessível no Interpretador:**\n",
        "A filosofia é acessível dentro do interpretador Python ao digitar import this, tornando-a um lembrete constante para os desenvolvedores.\n",
        "\n",
        "**Filosofia do Design:**\n",
        "O Zen do Python não é apenas um guia, mas sim a filosofia que guia o design da linguagem Python.\n",
        "\n",
        "**Melhoria Contínua:**\n",
        "A coleção de princípios é um guia para melhoria contínua e desenvolvimento em Python.\n",
        "\n",
        "Em resumo, o Zen do Python é um conjunto de princípios que orienta os desenvolvedores a escrever código Python mais legível, simples, claro e eficaz, seguindo a filosofia do design da linguagem Python.\n"
      ],
      "metadata": {
        "id": "x8A8sjKuuuoE"
      }
    },
    {
      "cell_type": "markdown",
      "source": [
        "# Variáveis"
      ],
      "metadata": {
        "id": "nQ3h5GoirXa2"
      }
    },
    {
      "cell_type": "code",
      "source": [
        "# Variáveis: Definição e tipos\n",
        "\n",
        "# Declarando 4 variáveis e atribuindo valores a elas\n",
        "uma_string = \"Aluno\"\n",
        "um_inteiro = 7\n",
        "um_float = 7.584\n",
        "um_booleano = True\n",
        "\n",
        "# Imprimindo o valor e o tipo de uma das variáveis\n",
        "print(um_float)\n",
        "print(type(um_float))"
      ],
      "metadata": {
        "colab": {
          "base_uri": "https://localhost:8080/"
        },
        "id": "cEdF4phBrmDO",
        "outputId": "6efa24d3-a612-47b8-f0c2-4543684122e0"
      },
      "execution_count": 3,
      "outputs": [
        {
          "output_type": "stream",
          "name": "stdout",
          "text": [
            "7.584\n",
            "<class 'float'>\n"
          ]
        }
      ]
    },
    {
      "cell_type": "markdown",
      "source": [
        "# Strings"
      ],
      "metadata": {
        "id": "flWmjoc7rsF8"
      }
    },
    {
      "cell_type": "code",
      "source": [
        "# Concatenação\n",
        "\n",
        "programacao = \"Programação\" # pode ser tanto delimitada por aspas duplas...\n",
        "oo = 'OO' #... quanto por aspas simples, mas sempre combinando\n",
        "programacao_oo = programacao + \" \" + oo\n",
        "print(programacao_oo)"
      ],
      "metadata": {
        "colab": {
          "base_uri": "https://localhost:8080/"
        },
        "id": "4JC28w9jryVg",
        "outputId": "af35069d-316a-4b00-85e3-5f16e6207b18"
      },
      "execution_count": 4,
      "outputs": [
        {
          "output_type": "stream",
          "name": "stdout",
          "text": [
            "Programação OO\n"
          ]
        }
      ]
    },
    {
      "cell_type": "code",
      "source": [
        "# Tamanho\n",
        "\n",
        "print(len(programacao_oo))"
      ],
      "metadata": {
        "colab": {
          "base_uri": "https://localhost:8080/"
        },
        "id": "bH5r4FqVscyl",
        "outputId": "40f22100-d94d-4f21-c7d5-783ee2356b3c"
      },
      "execution_count": 5,
      "outputs": [
        {
          "output_type": "stream",
          "name": "stdout",
          "text": [
            "14\n"
          ]
        }
      ]
    },
    {
      "cell_type": "code",
      "source": [
        "# Indexação e Substrings\n",
        "\n",
        "frase = \"Python é muito divertido!\"\n",
        "\n",
        "# A indexação começa com 0\n",
        "print(frase[3])\n",
        "\n",
        "# use -1 para pegar a última letra\n",
        "print(frase[-1])\n",
        "\n",
        "# -2 pega a penúltima letra\n",
        "print(frase[-2])\n",
        "\n",
        "# string[start:end] - end não é incluso\n",
        "print(frase[:4])\n",
        "print(frase[10:])\n",
        "print(frase[5:10])\n",
        "print(frase[:])"
      ],
      "metadata": {
        "colab": {
          "base_uri": "https://localhost:8080/"
        },
        "id": "YmgGcOoFsdmp",
        "outputId": "84eb3e91-c083-4d00-c7de-49da4a5758bf"
      },
      "execution_count": 6,
      "outputs": [
        {
          "output_type": "stream",
          "name": "stdout",
          "text": [
            "h\n",
            "!\n",
            "o\n",
            "Pyth\n",
            "uito divertido!\n",
            "n é m\n",
            "Python é muito divertido!\n"
          ]
        }
      ]
    },
    {
      "cell_type": "code",
      "source": [
        "# Multiplicação de uma string por um número\n",
        "\n",
        "ola = \"olá\"\n",
        "sete_olas = ola * 7\n",
        "print(sete_olas)"
      ],
      "metadata": {
        "colab": {
          "base_uri": "https://localhost:8080/"
        },
        "id": "JDJnMi1KsiCU",
        "outputId": "4cfa60ec-5ae7-4bdb-dc10-fa17f0b863b5"
      },
      "execution_count": 7,
      "outputs": [
        {
          "output_type": "stream",
          "name": "stdout",
          "text": [
            "oláoláoláoláoláoláolá\n"
          ]
        }
      ]
    },
    {
      "cell_type": "code",
      "source": [
        "# Operador in\n",
        "\n",
        "programacao_python = \"Programação em Python\"\n",
        "\n",
        "# checa se a string contém \"Python\"\n",
        "print(\"Python\" in programacao_python)\n",
        "\n",
        "# checa se a string contém \"python\"\n",
        "print(\"python\" in programacao_python)\n",
        "\n",
        "# checa se a string contém \"abacate\"\n",
        "print(\"abacate\" in programacao_python)"
      ],
      "metadata": {
        "colab": {
          "base_uri": "https://localhost:8080/"
        },
        "id": "ScfmUYJSstRV",
        "outputId": "2542929f-9ab1-49cd-8296-334024c10b9c"
      },
      "execution_count": 8,
      "outputs": [
        {
          "output_type": "stream",
          "name": "stdout",
          "text": [
            "True\n",
            "False\n",
            "False\n"
          ]
        }
      ]
    },
    {
      "cell_type": "code",
      "source": [
        "# Escaping\n",
        "\n",
        "print(\"Estou estudando\\n\" + programacao_python) # \\n = nova linha"
      ],
      "metadata": {
        "colab": {
          "base_uri": "https://localhost:8080/"
        },
        "id": "o3vkFNtKsuG9",
        "outputId": "b87a3ab4-9b38-402e-e52d-190298d00595"
      },
      "execution_count": 9,
      "outputs": [
        {
          "output_type": "stream",
          "name": "stdout",
          "text": [
            "Estou estudando\n",
            "Programação em Python\n"
          ]
        }
      ]
    },
    {
      "cell_type": "code",
      "source": [
        "# Maiúsculas e Minúsculas\n",
        "\n",
        "print(programacao_python.lower()) # todas minúsculas\n",
        "print(programacao_python.upper()) # todas maiúsculas\n",
        "\n",
        "tudo_minuscula = \"aula de python\"\n",
        "print(tudo_minuscula.capitalize()) # primeira letra maiúscula"
      ],
      "metadata": {
        "colab": {
          "base_uri": "https://localhost:8080/"
        },
        "id": "Yb-RSnokszWe",
        "outputId": "3081caab-bbe9-4148-f260-5c2c87103575"
      },
      "execution_count": 10,
      "outputs": [
        {
          "output_type": "stream",
          "name": "stdout",
          "text": [
            "programação em python\n",
            "PROGRAMAÇÃO EM PYTHON\n",
            "Aula de python\n"
          ]
        }
      ]
    },
    {
      "cell_type": "code",
      "source": [
        "# Formatação\n",
        "\n",
        "nome = \"Belinha\"\n",
        "numero_inteiro = 7\n",
        "numero_decimal = 7.584\n",
        "\n",
        "print(\"Olá, meu nome é %s! Tenho %d anos e %d reais\" % (nome, numero_inteiro, numero_decimal)) # float impresso como int\n",
        "print(\"Olá, meu nome é %s! Tenho %d anos e %f reais\" % (nome, numero_inteiro, numero_decimal)) # float impresso como float\n",
        "print(\"Olá, meu nome é %s! Tenho %d anos e %.2f reais\" % (nome, numero_inteiro, numero_decimal)) # float impresso como float com 2 casas decimais"
      ],
      "metadata": {
        "colab": {
          "base_uri": "https://localhost:8080/"
        },
        "id": "NI6TCaWbs3Ak",
        "outputId": "d243eefb-869e-4268-ce22-ff8d1374823f"
      },
      "execution_count": 11,
      "outputs": [
        {
          "output_type": "stream",
          "name": "stdout",
          "text": [
            "Olá, meu nome é Belinha! Tenho 7 anos e 7 reais\n",
            "Olá, meu nome é Belinha! Tenho 7 anos e 7.584000 reais\n",
            "Olá, meu nome é Belinha! Tenho 7 anos e 7.58 reais\n"
          ]
        }
      ]
    },
    {
      "cell_type": "markdown",
      "source": [
        "# Coleções"
      ],
      "metadata": {
        "id": "mwJMaVQ3sKgS"
      }
    },
    {
      "cell_type": "code",
      "source": [
        "# Listas\n",
        "\n",
        "numeros = [1, 10, 100, 1000]\n",
        "print(numeros)\n",
        "\n",
        "# imprimir o elemento de índice 2 - inicia no 0\n",
        "print(numeros[2])"
      ],
      "metadata": {
        "colab": {
          "base_uri": "https://localhost:8080/"
        },
        "id": "dm4VpySGsPZQ",
        "outputId": "696f3eba-8903-4632-b64a-4a32aabfc43c"
      },
      "execution_count": 12,
      "outputs": [
        {
          "output_type": "stream",
          "name": "stdout",
          "text": [
            "[1, 10, 100, 1000]\n",
            "100\n"
          ]
        }
      ]
    },
    {
      "cell_type": "code",
      "source": [
        "# Operações de Listas\n",
        "\n",
        "# incluir 2 itens na lista usando +=\n",
        "numeros += [10000, 100000]\n",
        "print(numeros)\n",
        "\n",
        "# incluir 1 item na lista usando append\n",
        "numeros.append(1000000)\n",
        "print(numeros)\n",
        "\n",
        "# substituir os itens nas posições 1 e 2 por 7\n",
        "# [índice_incluído:índice_excluído]\n",
        "numeros[1:3] = [7]\n",
        "print(numeros)\n",
        "\n",
        "# remover os itens nas posições 1 e 2 da lista\n",
        "numeros[1:3] = []\n",
        "print(numeros)\n",
        "\n",
        "# tamanho da lista\n",
        "print(len(numeros))"
      ],
      "metadata": {
        "colab": {
          "base_uri": "https://localhost:8080/"
        },
        "id": "FvvYzI6ctDbl",
        "outputId": "7c945401-5ff4-473d-bfb1-d02b6c52f1dc"
      },
      "execution_count": 13,
      "outputs": [
        {
          "output_type": "stream",
          "name": "stdout",
          "text": [
            "[1, 10, 100, 1000, 10000, 100000]\n",
            "[1, 10, 100, 1000, 10000, 100000, 1000000]\n",
            "[1, 7, 1000, 10000, 100000, 1000000]\n",
            "[1, 10000, 100000, 1000000]\n",
            "4\n"
          ]
        }
      ]
    },
    {
      "cell_type": "code",
      "source": [
        "# Tuplas\n",
        "\n",
        "naipes = ('copas', 'ouros', 'espadas', 'paus')\n",
        "print(naipes)"
      ],
      "metadata": {
        "colab": {
          "base_uri": "https://localhost:8080/"
        },
        "id": "5PaYMsf8tQbT",
        "outputId": "537fae84-425b-44d0-f424-b800f809c12e"
      },
      "execution_count": 14,
      "outputs": [
        {
          "output_type": "stream",
          "name": "stdout",
          "text": [
            "('copas', 'ouros', 'espadas', 'paus')\n"
          ]
        }
      ]
    },
    {
      "cell_type": "code",
      "source": [
        "# Dicionários\n",
        "\n",
        "# criar e imprimir um dicionário\n",
        "notas = {\"Ana\": 8, \"Maria\": 5, \"Thais\": 10}\n",
        "print(notas)\n",
        "\n",
        "# acessar o valor correspondente à chave \"Thais\"\n",
        "print(notas[\"Thais\"])\n",
        "\n",
        "# incluir novo item\n",
        "notas[\"Zaira\"] = 9\n",
        "print(notas)\n",
        "\n",
        "# remover item\n",
        "del notas[\"Thais\"]\n",
        "print(notas)\n",
        "\n",
        "# checar se notas contém o item \"Maria\"\n",
        "print(\"Maria\" in notas)"
      ],
      "metadata": {
        "colab": {
          "base_uri": "https://localhost:8080/"
        },
        "id": "ksn6_DQ5tVG7",
        "outputId": "b1c12faf-9638-4d4a-bebe-ac148737b97d"
      },
      "execution_count": 15,
      "outputs": [
        {
          "output_type": "stream",
          "name": "stdout",
          "text": [
            "{'Ana': 8, 'Maria': 5, 'Thais': 10}\n",
            "10\n",
            "{'Ana': 8, 'Maria': 5, 'Thais': 10, 'Zaira': 9}\n",
            "{'Ana': 8, 'Maria': 5, 'Zaira': 9}\n",
            "True\n"
          ]
        }
      ]
    },
    {
      "cell_type": "markdown",
      "source": [
        "# Condições"
      ],
      "metadata": {
        "id": "_yBcDYxMtaZ8"
      }
    },
    {
      "cell_type": "code",
      "source": [
        "nome = \"Ana\"\n",
        "idade = 25\n",
        "\n",
        "# Comando if (condição se)\n",
        "\n",
        "if nome == \"Ana\": # V\n",
        "    print(\"Passou!\")\n",
        "\n",
        "if nome == \"Ana\" or idade == 17:   # V ou V = V\n",
        "    print(\"Passou de novo!\")\n",
        "    print(\"%s tem %d anos\" %(nome, idade))"
      ],
      "metadata": {
        "colab": {
          "base_uri": "https://localhost:8080/"
        },
        "id": "s9L4ZtDltejl",
        "outputId": "c57d824e-59c5-4719-fe77-7c155f5b766d"
      },
      "execution_count": 16,
      "outputs": [
        {
          "output_type": "stream",
          "name": "stdout",
          "text": [
            "Passou!\n",
            "Passou de novo!\n",
            "Ana tem 25 anos\n"
          ]
        }
      ]
    },
    {
      "cell_type": "code",
      "source": [
        "# Comandos if, elif e else\n",
        "\n",
        "dias = [\"sábado\", \"domingo\"]\n",
        "if len(dias) == 0:\n",
        "    print(\"Lista vazia\")\n",
        "elif len(dias) == 1:\n",
        "    print(\"Só um dia\")\n",
        "else:\n",
        "    print(\"Tamanho %d\" % len(dias))"
      ],
      "metadata": {
        "colab": {
          "base_uri": "https://localhost:8080/"
        },
        "id": "_xoG2HDkthtd",
        "outputId": "b46d82f0-5faf-4b9b-b642-59c4818461e5"
      },
      "execution_count": 17,
      "outputs": [
        {
          "output_type": "stream",
          "name": "stdout",
          "text": [
            "Tamanho 2\n"
          ]
        }
      ]
    },
    {
      "cell_type": "markdown",
      "source": [
        "# Loops"
      ],
      "metadata": {
        "id": "ONuDJyoNtrOx"
      }
    },
    {
      "cell_type": "code",
      "source": [
        "# Loop for\n",
        "for i in range(6):\n",
        "    print(i)\n",
        "\n",
        "# OBS: A função range() pode ser representada de três formas diferentes:\n",
        "# range(stop_value) : Considera o ponto inicial como zero.\n",
        "# range(start_value, stop_value) : Gera a sequência com base no valor inicial e final.\n",
        "# range(start_value, stop_value, step_size): Gera a sequência incrementando o valor inicial usando o tamanho do passo até atingir o valor final."
      ],
      "metadata": {
        "colab": {
          "base_uri": "https://localhost:8080/"
        },
        "id": "81czn-C0tugw",
        "outputId": "62d4c7b1-986f-4798-f07f-590283cfd390"
      },
      "execution_count": 18,
      "outputs": [
        {
          "output_type": "stream",
          "name": "stdout",
          "text": [
            "0\n",
            "1\n",
            "2\n",
            "3\n",
            "4\n",
            "5\n"
          ]
        }
      ]
    },
    {
      "cell_type": "code",
      "source": [
        "# Loop for - outro exemplo\n",
        "pares = [2, 4, 6, 8]\n",
        "for i in range(len(pares)):\n",
        "    print(\"Índice %d - Valor %d \" % (i, pares[i]))"
      ],
      "metadata": {
        "colab": {
          "base_uri": "https://localhost:8080/"
        },
        "id": "-LPnkitft1Dq",
        "outputId": "fb7dc071-6c06-463e-ae0f-87f486e82aa1"
      },
      "execution_count": 19,
      "outputs": [
        {
          "output_type": "stream",
          "name": "stdout",
          "text": [
            "Índice 0 - Valor 2 \n",
            "Índice 1 - Valor 4 \n",
            "Índice 2 - Valor 6 \n",
            "Índice 3 - Valor 8 \n"
          ]
        }
      ]
    },
    {
      "cell_type": "code",
      "source": [
        "# Loop for usando string\n",
        "\n",
        "hello_world = \"Hello, World!\"\n",
        "\n",
        "# imprimir cada caracter\n",
        "for ch in hello_world:\n",
        "    print(ch)\n",
        "\n",
        "# contar a quantidade de caracteres usando loop\n",
        "length = 0\n",
        "for ch in hello_world:\n",
        "    length += 1\n",
        "print(\"Número de caracteres: %d \" % length)\n"
      ],
      "metadata": {
        "colab": {
          "base_uri": "https://localhost:8080/"
        },
        "id": "E6NMxWrXt21o",
        "outputId": "627a98a1-3bfd-431e-f0b5-e67cac9272f0"
      },
      "execution_count": 20,
      "outputs": [
        {
          "output_type": "stream",
          "name": "stdout",
          "text": [
            "H\n",
            "e\n",
            "l\n",
            "l\n",
            "o\n",
            ",\n",
            " \n",
            "W\n",
            "o\n",
            "r\n",
            "l\n",
            "d\n",
            "!\n",
            "Número de caracteres: 13 \n"
          ]
        }
      ]
    },
    {
      "cell_type": "code",
      "source": [
        "# Loop While\n",
        "numero = 1\n",
        "\n",
        "# imprimir de 1 a 7\n",
        "while numero <= 7:\n",
        "    print(numero)\n",
        "    numero += 1"
      ],
      "metadata": {
        "colab": {
          "base_uri": "https://localhost:8080/"
        },
        "id": "YZ-pWWOKt-6L",
        "outputId": "a7c72cf6-b02b-4d90-d5ec-b115c0aba519"
      },
      "execution_count": 21,
      "outputs": [
        {
          "output_type": "stream",
          "name": "stdout",
          "text": [
            "1\n",
            "2\n",
            "3\n",
            "4\n",
            "5\n",
            "6\n",
            "7\n"
          ]
        }
      ]
    },
    {
      "cell_type": "code",
      "source": [
        "# imprimir os quadrados menores que 25\n",
        "numero = 1\n",
        "quadrado = 1\n",
        "\n",
        "while quadrado <= 24:\n",
        "    quadrado = numero ** 2\n",
        "    print(\"Número %d - Quadrado %d\" % (numero, quadrado))\n",
        "    numero += 1\n",
        "\n",
        "print(\"Ao sair do while, numero tem o valor %d\" % numero)"
      ],
      "metadata": {
        "colab": {
          "base_uri": "https://localhost:8080/"
        },
        "id": "lxoNJXEVuCZV",
        "outputId": "a884b09b-34f1-4618-98e6-41beb5205052"
      },
      "execution_count": 22,
      "outputs": [
        {
          "output_type": "stream",
          "name": "stdout",
          "text": [
            "Número 1 - Quadrado 1\n",
            "Número 2 - Quadrado 4\n",
            "Número 3 - Quadrado 9\n",
            "Número 4 - Quadrado 16\n",
            "Número 5 - Quadrado 25\n",
            "Ao sair do while, numero tem o valor 6\n"
          ]
        }
      ]
    },
    {
      "cell_type": "code",
      "source": [
        "# Break\n",
        "\n",
        "count = 0\n",
        "\n",
        "# loop infinito - nunca é False\n",
        "while True:\n",
        "    print(count)\n",
        "    count += 1\n",
        "    if count >= 5:\n",
        "      break # sai do loop"
      ],
      "metadata": {
        "colab": {
          "base_uri": "https://localhost:8080/"
        },
        "id": "1nJ5_CPEuFyM",
        "outputId": "c8c1236a-9822-4967-e02d-8736263abc6a"
      },
      "execution_count": 23,
      "outputs": [
        {
          "output_type": "stream",
          "name": "stdout",
          "text": [
            "0\n",
            "1\n",
            "2\n",
            "3\n",
            "4\n"
          ]
        }
      ]
    },
    {
      "cell_type": "code",
      "source": [
        "naipes = ['copas', 'ouros', 'espadas', 'paus']\n",
        "\n",
        "# loop infinito - nunca é False\n",
        "while True:\n",
        "    # pop(): retira e retorna o último item da lista\n",
        "    elemento = naipes.pop()\n",
        "    print(elemento)\n",
        "    if elemento == \"espadas\":\n",
        "        break"
      ],
      "metadata": {
        "colab": {
          "base_uri": "https://localhost:8080/"
        },
        "id": "YF7MLI3fuKLD",
        "outputId": "f61eee9f-ed0a-449b-f0f9-65bcb51876a2"
      },
      "execution_count": 24,
      "outputs": [
        {
          "output_type": "stream",
          "name": "stdout",
          "text": [
            "paus\n",
            "espadas\n"
          ]
        }
      ]
    },
    {
      "cell_type": "code",
      "source": [
        "# Continue\n",
        "\n",
        "for i in range(5):\n",
        "    if i == 3:\n",
        "       continue # pula o resto do código e move para a próxima iteração do loop\n",
        "    print(i)"
      ],
      "metadata": {
        "colab": {
          "base_uri": "https://localhost:8080/"
        },
        "id": "EMtNiGlMuOEX",
        "outputId": "236f4624-37df-47b3-c4ea-4668f33bfb99"
      },
      "execution_count": 25,
      "outputs": [
        {
          "output_type": "stream",
          "name": "stdout",
          "text": [
            "0\n",
            "1\n",
            "2\n",
            "4\n"
          ]
        }
      ]
    },
    {
      "cell_type": "code",
      "source": [
        "# imprimir somente os ímpares\n",
        "for x in range(10):\n",
        "    if (x % 2) == 0: # é par\n",
        "        # pula print(x) para este loop\n",
        "        continue\n",
        "    print(\"Número %d\" % x)"
      ],
      "metadata": {
        "colab": {
          "base_uri": "https://localhost:8080/"
        },
        "id": "nm6kzCaMuR3T",
        "outputId": "ebaa7fa6-0b8f-48f3-cca5-f9ec0bd51996"
      },
      "execution_count": 26,
      "outputs": [
        {
          "output_type": "stream",
          "name": "stdout",
          "text": [
            "Número 1\n",
            "Número 3\n",
            "Número 5\n",
            "Número 7\n",
            "Número 9\n"
          ]
        }
      ]
    },
    {
      "cell_type": "markdown",
      "source": [
        "# Funções"
      ],
      "metadata": {
        "id": "8j4Pv7KWuVfy"
      }
    },
    {
      "cell_type": "code",
      "source": [
        "# Funções\n",
        "\n",
        "# definir uma função chamada hello_world\n",
        "def hello_world():\n",
        "    print(\"Hello, World!\")\n",
        "    print(\"Oi, Mundo!\")\n",
        "    print(\"Salut, Monde!\")\n",
        "    print(\"Hola, Mundo!\")\n",
        "\n",
        "# chamar a função 3 vezes\n",
        "for i in range(3):\n",
        "    hello_world()"
      ],
      "metadata": {
        "colab": {
          "base_uri": "https://localhost:8080/"
        },
        "id": "S87kRdtGuX3W",
        "outputId": "180f9b13-07e2-4ba5-ce7d-8e2dcdfc4e25"
      },
      "execution_count": 27,
      "outputs": [
        {
          "output_type": "stream",
          "name": "stdout",
          "text": [
            "Hello, World!\n",
            "Oi, Mundo!\n",
            "Salut, Monde!\n",
            "Hola, Mundo!\n",
            "Hello, World!\n",
            "Oi, Mundo!\n",
            "Salut, Monde!\n",
            "Hola, Mundo!\n",
            "Hello, World!\n",
            "Oi, Mundo!\n",
            "Salut, Monde!\n",
            "Hola, Mundo!\n"
          ]
        }
      ]
    },
    {
      "cell_type": "code",
      "source": [
        "# Funções com parâmetros\n",
        "\n",
        "# x é um parâmetro\n",
        "def uma_funcao(x):\n",
        "    print(\"x = %d\" % x)\n",
        "\n",
        "# passar 5 para a função. Aqui, 5 é um argumento passado para a função\n",
        "uma_funcao(5)"
      ],
      "metadata": {
        "colab": {
          "base_uri": "https://localhost:8080/"
        },
        "id": "cl4ssgyyudio",
        "outputId": "dd362405-8a8f-4163-a3d8-6ac7fe74883c"
      },
      "execution_count": 28,
      "outputs": [
        {
          "output_type": "stream",
          "name": "stdout",
          "text": [
            "x = 5\n"
          ]
        }
      ]
    },
    {
      "cell_type": "code",
      "source": [
        "# Funções com retorno\n",
        "\n",
        "# função que retorna a soma de dois números\n",
        "def soma(a, b):\n",
        "    return a + b\n",
        "\n",
        "c = soma(7, 5)\n",
        "print(\"c = %d\" % c)"
      ],
      "metadata": {
        "colab": {
          "base_uri": "https://localhost:8080/"
        },
        "id": "GujsFC2Muhrf",
        "outputId": "ff159d17-39b3-47a4-aea1-1e77ab2277e2"
      },
      "execution_count": 29,
      "outputs": [
        {
          "output_type": "stream",
          "name": "stdout",
          "text": [
            "c = 12\n"
          ]
        }
      ]
    },
    {
      "cell_type": "code",
      "source": [
        "# Função com parâmetros default (padrão)\n",
        "\n",
        "def multiplica(a, b=2):\n",
        "    return a * b\n",
        "\n",
        "print(multiplica(5, 84))\n",
        "\n",
        "# como b tem um valor padrão, podemos passar apenas um argumento\n",
        "print(multiplica(7))"
      ],
      "metadata": {
        "colab": {
          "base_uri": "https://localhost:8080/"
        },
        "id": "iWnicf_kulaq",
        "outputId": "415795a5-06f0-49ab-bfb7-1c69e8ba8fb0"
      },
      "execution_count": 30,
      "outputs": [
        {
          "output_type": "stream",
          "name": "stdout",
          "text": [
            "420\n",
            "14\n"
          ]
        }
      ]
    }
  ]
}