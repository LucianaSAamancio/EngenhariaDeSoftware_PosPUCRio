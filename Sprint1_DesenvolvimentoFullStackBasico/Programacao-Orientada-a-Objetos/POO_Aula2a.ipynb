{
  "nbformat": 4,
  "nbformat_minor": 0,
  "metadata": {
    "colab": {
      "provenance": [],
      "toc_visible": true
    },
    "kernelspec": {
      "name": "python3",
      "display_name": "Python 3"
    },
    "language_info": {
      "name": "python"
    }
  },
  "cells": [
    {
      "cell_type": "markdown",
      "source": [
        "---\n",
        "---\n",
        "\n",
        "# **Programação Orientada a Objetos**\n",
        "# Prof. Tatiana Escovedo\n",
        "\n",
        "---\n",
        "---\n",
        "\n",
        "Aula 02: Os 4 pilares da Orientação a Objetos\n",
        "\n",
        "**Prática 3: Introdução à Orientação a Objetos**"
      ],
      "metadata": {
        "id": "frWoaWETvK89"
      }
    },
    {
      "cell_type": "markdown",
      "source": [
        "### Exemplo de código 1: Definição de Classe e instanciação dos objetos"
      ],
      "metadata": {
        "id": "oHxz75lJvcND"
      }
    },
    {
      "cell_type": "code",
      "execution_count": null,
      "metadata": {
        "colab": {
          "base_uri": "https://localhost:8080/"
        },
        "id": "HF6tSZHzvA2p",
        "outputId": "42ede8d3-6ae5-4841-c466-fa11595e93bb"
      },
      "outputs": [
        {
          "output_type": "stream",
          "name": "stdout",
          "text": [
            "Maria\n",
            "Zé\n",
            "36\n",
            "42\n",
            "Nome do aluno_1: Ana\n",
            "Nome do aluno_2: Zé\n"
          ]
        }
      ],
      "source": [
        "# Definição da classe\n",
        "class Aluno:\n",
        "\n",
        "    def __init__(self):\n",
        "        self.nome = \"Zé\"\n",
        "        self.idade = 18\n",
        "\n",
        "    def dobra_idade(self):\n",
        "        return self.idade * 2\n",
        "\n",
        "\n",
        "# Instanciação dos objetos\n",
        "\n",
        "aluno_1 = Aluno()\n",
        "aluno_1.nome = \"Maria\" # definindo que o nome do aluno_1 é \"Maria\"\n",
        "\n",
        "\n",
        "aluno_2 = Aluno()\n",
        "aluno_2.idade = 21 # definindo que a idade do aluno_2 é 21\n",
        "\n",
        "print(aluno_1.nome) # imprime Maria (valor que definimos)\n",
        "print(aluno_2.nome) # imprime Zé (valor default)\n",
        "\n",
        "print(aluno_1.dobra_idade()) # dobra a idade 18 (valor default)\n",
        "print(aluno_2.dobra_idade()) # dobra a idade 21 (valor que definimos)\n",
        "\n",
        "# ao mudar o valor de nome em aluno_1, o aluno_2 continua inalterado\n",
        "aluno_1.nome = \"Ana\"\n",
        "print(\"Nome do aluno_1:\", aluno_1.nome)\n",
        "print(\"Nome do aluno_2:\", aluno_2.nome)"
      ]
    },
    {
      "cell_type": "markdown",
      "source": [
        "###Exemplo de código 2: Parâmetro self"
      ],
      "metadata": {
        "id": "kgM9132uwBGR"
      }
    },
    {
      "cell_type": "code",
      "source": [
        "class Calculadora:\n",
        "\n",
        "    def __init__(self):\n",
        "        self.valor_interno = 5\n",
        "\n",
        "    def adiciona(self, numero):\n",
        "        # não podemos chamar a variável \"valor_interno\" sem \"self\" porque \"valor\" é um atributo de Calculadora\n",
        "        return self.valor_interno + numero;\n",
        "\n",
        "total = Calculadora()\n",
        "print(\"resultado = %d\" % total.adiciona(3)) # self pegará o valor 5 de valor_interno e o valor 3 irá para numero"
      ],
      "metadata": {
        "colab": {
          "base_uri": "https://localhost:8080/"
        },
        "id": "keK3hqQmwM6c",
        "outputId": "383912c5-3493-4980-c97e-c2b786a19464"
      },
      "execution_count": null,
      "outputs": [
        {
          "output_type": "stream",
          "name": "stdout",
          "text": [
            "resultado = 8\n"
          ]
        }
      ]
    },
    {
      "cell_type": "markdown",
      "source": [
        "### Exemplo de código 3: Método \\_\\_init__"
      ],
      "metadata": {
        "id": "gorm3Ffnworc"
      }
    },
    {
      "cell_type": "code",
      "source": [
        "class Carro:\n",
        "\n",
        "    def __init__(self):\n",
        "        self.cor = \"preto\"\n",
        "\n",
        "# um novo carro é criado com cor = \"preto\"\n",
        "carro_1 = Carro()\n",
        "print(carro_1.cor)\n",
        "\n",
        "# alterando o valor da color de carro_1 para \"branco\"\n",
        "carro_1.cor = \"branco\"\n",
        "print(carro_1.cor)"
      ],
      "metadata": {
        "id": "FIEtj9oGw_W8",
        "outputId": "2bceab63-bc7e-4f53-d7b3-388217e17640",
        "colab": {
          "base_uri": "https://localhost:8080/"
        }
      },
      "execution_count": null,
      "outputs": [
        {
          "output_type": "stream",
          "name": "stdout",
          "text": [
            "preto\n",
            "branco\n"
          ]
        }
      ]
    }
  ]
}