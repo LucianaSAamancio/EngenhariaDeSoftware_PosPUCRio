{
  "nbformat": 4,
  "nbformat_minor": 0,
  "metadata": {
    "colab": {
      "provenance": [],
      "toc_visible": true
    },
    "kernelspec": {
      "name": "python3",
      "display_name": "Python 3"
    },
    "language_info": {
      "name": "python"
    }
  },
  "cells": [
    {
      "cell_type": "markdown",
      "source": [
        "---\n",
        "---\n",
        "\n",
        "# **Programação Orientada a Objetos**\n",
        "##Prof. Marcos Kalinowski | Tatiana Escovedo\n",
        "##Prof. Assistente Antonio Pedro\n",
        "\n",
        "---\n",
        "---\n",
        "\n",
        "#**Exercícios Básicos de Fixação de Python**\n"
      ],
      "metadata": {
        "id": "Zs-By2enimSj"
      }
    },
    {
      "cell_type": "markdown",
      "source": [
        "##Tipos de Variáveis e Operações\n"
      ],
      "metadata": {
        "id": "yYmGtbQMjIc7"
      }
    },
    {
      "cell_type": "markdown",
      "source": [
        "1. Crie e inicialize duas variáveis inteiras e imprima a sua soma."
      ],
      "metadata": {
        "id": "Zmi3WPNrjfaS"
      }
    },
    {
      "cell_type": "code",
      "source": [
        "a = 7\n",
        "b = 9\n",
        "\n",
        "print(a+b)"
      ],
      "metadata": {
        "id": "6v2rHzNXjhL_"
      },
      "execution_count": null,
      "outputs": []
    },
    {
      "cell_type": "markdown",
      "source": [
        "2. Crie e inicialize duas variáveis com algum texto e tente imprimir a soma dessas variáveis."
      ],
      "metadata": {
        "id": "tc_Dw3PMjk0G"
      }
    },
    {
      "cell_type": "code",
      "source": [
        "texto_1 = 'Oi.'\n",
        "texto_2 = 'Tudo bem?'\n",
        "\n",
        "print(texto_1 + texto_2)"
      ],
      "metadata": {
        "id": "2hVxIU1Ajoq2"
      },
      "execution_count": null,
      "outputs": []
    },
    {
      "cell_type": "markdown",
      "source": [
        "3. Crie e inicialize três variáveis que armazenem, respectivamente, uma mensagem de boas vindas (boas_vindas como String), o nome (nome_usuario como String) e o saldo (saldo_usuario como Inteiro ou Float) de um usuário no banco.\n",
        "\n",
        "Imprima essas três variáveis no seguinte formato:\n",
        "\n",
        "'boas_vindas, nome_usuario. Seu saldo é de R$ saldo_usuario.'"
      ],
      "metadata": {
        "id": "UX8OBEJejspE"
      }
    },
    {
      "cell_type": "code",
      "source": [
        "boas_vindas = 'Bem-vindo'\n",
        "nome_usuario = 'Joana'\n",
        "saldo_usuario = 355.89\n",
        "\n",
        "print('{}, {}. Seu saldo é de R$ {}.'.format(boas_vindas, nome_usuario, saldo_usuario))\n",
        "print(f'{boas_vindas}, {nome_usuario}. Seu saldo é de R$ {saldo_usuario}.') # - Alternativa desde o Python 3.6\n"
      ],
      "metadata": {
        "id": "gskcxaEJj1xP"
      },
      "execution_count": null,
      "outputs": []
    },
    {
      "cell_type": "markdown",
      "source": [
        "4. Crie e inicialize uma variável com algum texto e imprima quantos caracteres tem esse texto."
      ],
      "metadata": {
        "id": "PBSQyBQsj9Fd"
      }
    },
    {
      "cell_type": "code",
      "source": [
        "texto = 'Olá, pessoa! Tudo bem? Como foi seu dia?'\n",
        "print('O texto tem {} caracteres.'.format(len(texto)))"
      ],
      "metadata": {
        "colab": {
          "base_uri": "https://localhost:8080/"
        },
        "id": "QdddMrknjNNX",
        "outputId": "27428d5c-15fa-47ed-8360-2f3325a49a6d"
      },
      "execution_count": null,
      "outputs": [
        {
          "output_type": "stream",
          "name": "stdout",
          "text": [
            "O texto tem 40 caracteres.\n"
          ]
        }
      ]
    },
    {
      "cell_type": "markdown",
      "source": [
        "##Funções"
      ],
      "metadata": {
        "id": "-urMa87OkKMr"
      }
    },
    {
      "cell_type": "markdown",
      "source": [
        "1. Crie uma função chamada hello_world que imprime uma mensagem de boas-vindas. Teste sua função a chamando uma única vez."
      ],
      "metadata": {
        "id": "zxk8sxslkQAB"
      }
    },
    {
      "cell_type": "code",
      "source": [
        "def hello_world():\n",
        "  print(\"Olá, pessoal!\")\n",
        "\n",
        "hello_world()\n"
      ],
      "metadata": {
        "id": "YU2qxCcckMiD"
      },
      "execution_count": null,
      "outputs": []
    },
    {
      "cell_type": "markdown",
      "source": [
        "2. Crie uma função que não recebe nenhum parâmetro e imprima um número aleatório sempre que for chamada no seguinte formato:\n",
        "\n",
        "'Número Gerado: numero_aleatorio'\n",
        "\n",
        "Teste sua função a chamando, pelo menos, duas vezes."
      ],
      "metadata": {
        "id": "dNtt3Sr8kU9U"
      }
    },
    {
      "cell_type": "code",
      "source": [
        "import random\n",
        "\n",
        "def imprime_numero_aleatorio():\n",
        "  # neste caso, usamos a biblioteca nativa random, que tem um método chamado\n",
        "  # random que retorna um número qualquer entre 0 e 1\n",
        "  numero_aleatorio = random.random()\n",
        "  print('Número Gerado: {}'.format(numero_aleatorio))\n",
        "\n",
        "imprime_numero_aleatorio() # vai imprimir um numero qualquer\n",
        "imprime_numero_aleatorio() # vai imprimir um outro numero qualquer"
      ],
      "metadata": {
        "id": "tx2YApZJkcWc"
      },
      "execution_count": null,
      "outputs": []
    },
    {
      "cell_type": "markdown",
      "source": [
        "3. Crie uma função que receba duas variáveis inteiras e retorne a sua soma.Imprima a seguinte mensagem com o resultado da soma.\n",
        "\n",
        "'A soma total foi soma!'\n",
        "\n",
        "Teste sua função passando dois inteiros."
      ],
      "metadata": {
        "id": "1Z-oV0hnkq5Y"
      }
    },
    {
      "cell_type": "code",
      "source": [
        "def soma_numeros(a, b):\n",
        "    return a + b\n",
        "\n",
        "soma = soma_numeros(7,84)\n",
        "print('A soma total foi {}!'.format(soma))"
      ],
      "metadata": {
        "id": "p23Y0KNYktn7"
      },
      "execution_count": null,
      "outputs": []
    },
    {
      "cell_type": "markdown",
      "source": [
        "4.Crie quatro funções que recebem duas variáveis inteiras e realizam as quatro operações básicas de soma, subtração, multiplicação e divisão.\n",
        "\n",
        "Retorne, para cada função, o resultado da operação e imprima seu resultado em alguma mensagem, capaz de distinguir as quatro operações.\n",
        "\n",
        "Teste cada uma das funções com pelo menos um exemplo.\n",
        "\n",
        "No caso da divisão, não é necessário tratar o caso de divisão por zero por ora."
      ],
      "metadata": {
        "id": "pzJhQk2SkxFP"
      }
    },
    {
      "cell_type": "code",
      "source": [
        "def soma(a, b):\n",
        "    return a + b\n",
        "\n",
        "def subtracao(a, b):\n",
        "    return a - b\n",
        "\n",
        "def multiplicacao(a, b):\n",
        "    return a * b\n",
        "\n",
        "def divisao(a, b):\n",
        "    return a / b\n",
        "\n",
        "print('A soma foi de {}.'.format(soma(7, 84)))\n",
        "print('A subtração foi de {}.'.format(subtracao(9, 2)))\n",
        "print('A multiplicação foi de {}.'.format(multiplicacao(10, 17)))\n",
        "print('A divisão foi de {}.'.format(divisao(27, 3)))"
      ],
      "metadata": {
        "id": "zM0lfGYbk52R"
      },
      "execution_count": null,
      "outputs": []
    },
    {
      "cell_type": "markdown",
      "source": [],
      "metadata": {
        "id": "T-f7hzC_k_zI"
      }
    },
    {
      "cell_type": "markdown",
      "source": [
        "##Loops"
      ],
      "metadata": {
        "id": "OVjN51YXlCty"
      }
    },
    {
      "cell_type": "markdown",
      "source": [
        "1. Crie uma função que, dado um inteiro positivo, imprima os valores de 0 até o penúltimo inteiro antes do que foi informado."
      ],
      "metadata": {
        "id": "OBSsIjjKlJI5"
      }
    },
    {
      "cell_type": "code",
      "source": [
        "def imprime_numeros(numero):\n",
        "    for num in range(numero):\n",
        "      print(num)\n",
        "\n",
        "imprime_numeros(10)\n"
      ],
      "metadata": {
        "id": "uPSsaXB7lGXe"
      },
      "execution_count": null,
      "outputs": []
    },
    {
      "cell_type": "markdown",
      "source": [
        "2. Aproveite a lógica desenvolvida no exercício anterior e, ao invés de imprimir os valores, faça a soma de todos os inteiros entre 0 e o valor informado (incluindo o valor).\n",
        "\n",
        "Imprima uma mensagem ao final informando o valor considerado e a soma resultante.\n",
        "\n",
        "Exemplo: Se o valor informado for 3, o resultado esperado deve ser, 6 (3 + 2 + 1 + 0)"
      ],
      "metadata": {
        "id": "9afOuBsllORc"
      }
    },
    {
      "cell_type": "code",
      "source": [
        "def soma_numeros(numero):\n",
        "    soma = 0\n",
        "    for num in range(numero + 1):\n",
        "      soma = soma + num\n",
        "\n",
        "    print('A soma de todos os inteiros de 0 a {} foi de {}'.format(numero, soma))\n",
        "\n",
        "soma_numeros(3)"
      ],
      "metadata": {
        "id": "qQAYB2DolVIm"
      },
      "execution_count": null,
      "outputs": []
    },
    {
      "cell_type": "markdown",
      "source": [
        "3. Dado o último exercício, vamos evoluir a lógica da soma completa para uma soma condicional de pares, ou seja, entre 0 e o valor inteiro informado, faça a soma somente dos números pares.\n",
        "\n",
        "Caso o número informado seja par, ele também deve ser incluído.\n",
        "\n",
        "Lembre-se de imprimir uma mensagem ao final informando o valor considerado e a soma resultante.\n",
        "\n",
        "Exemplo: Se o valor informado for 6, o resultado esperado deve ser 12 (0 + 2 + 4 + 6)"
      ],
      "metadata": {
        "id": "ftOqDCablZ7D"
      }
    },
    {
      "cell_type": "code",
      "source": [
        "def soma_numeros_pares(numero):\n",
        "    soma_pares = 0\n",
        "    for num in range(0, numero + 1, 2):\n",
        "      soma_pares = soma_pares + num\n",
        "\n",
        "    print('A soma de todos os inteiros pares de 0 a {} foi de {}'.format(numero, soma_pares))\n",
        "\n",
        "soma_numeros_pares(6)"
      ],
      "metadata": {
        "id": "5Vie4kxdlhhf"
      },
      "execution_count": null,
      "outputs": []
    },
    {
      "cell_type": "markdown",
      "source": [
        "4. Crie uma função que receba uma string e imprima cada caractere em uma linha, tal que apareça um '-' seguido do caractere."
      ],
      "metadata": {
        "id": "F41zYLrdloHg"
      }
    },
    {
      "cell_type": "code",
      "source": [
        "def desmembra_string(mensagem):\n",
        "  for caractere in mensagem:\n",
        "    print('- ' + caractere)\n",
        "  # for indice in range(len(mensagem)): # alternativa é acessar posição a posição da string\n",
        "    # print('- ' + mensagem[indice])\n",
        "\n",
        "desmembra_string('Olá, pessoa! Tudo bem?')\n"
      ],
      "metadata": {
        "id": "Jo1a225QlrCo"
      },
      "execution_count": null,
      "outputs": []
    },
    {
      "cell_type": "markdown",
      "source": [
        "##Condicionais"
      ],
      "metadata": {
        "id": "hhN2ml2llx3Y"
      }
    },
    {
      "cell_type": "markdown",
      "source": [
        "1. Crie uma função que, dadas duas variáveis inteiras, imprima a sua soma se eles forem iguais e a sua diferença se eles forem diferentes.\n",
        "\n",
        "Considere imprimir uma mensagem que mostre o resultado e a operação realizada.\n",
        "\n",
        "Teste esta função passando dois números iguais e passando dois números diferentes."
      ],
      "metadata": {
        "id": "iEzMyo5Cl04E"
      }
    },
    {
      "cell_type": "code",
      "source": [
        "def igual_ou_diferente(a, b):\n",
        "    if a == b:\n",
        "        print('Variáveis iguais, logo a soma é de {}.'.format(a+b))\n",
        "    else:\n",
        "        print('Variáveis diferentes, logo a subtração é de {}.'.format(a-b))\n",
        "\n",
        "igual_ou_diferente(7,7)\n",
        "igual_ou_diferente(7,84)"
      ],
      "metadata": {
        "id": "1Qawvrs5l58I"
      },
      "execution_count": null,
      "outputs": []
    },
    {
      "cell_type": "markdown",
      "source": [
        "2. Crie uma função que, dada uma variável inteira, imprima se o número informado é par, ímpar ou zero.\n",
        "\n",
        "Teste esta função para as três condições."
      ],
      "metadata": {
        "id": "7ekenadLmDyV"
      }
    },
    {
      "cell_type": "code",
      "source": [
        "def par_impar_zero(x):\n",
        "    if x == 0:\n",
        "      print('{} é zero.'.format(x))\n",
        "    elif x % 2 == 0:\n",
        "      print('{} é par.'.format(x))\n",
        "    else:\n",
        "      print('{} é impar.'.format(x))\n",
        "\n",
        "par_impar_zero(4)\n",
        "par_impar_zero(7)\n",
        "par_impar_zero(0)"
      ],
      "metadata": {
        "id": "N_3vOhbLl--w"
      },
      "execution_count": null,
      "outputs": []
    },
    {
      "cell_type": "markdown",
      "source": [
        "3. Crie uma função que verifique se:\n",
        "*   Um número é maior que 10 e menor que 20;\n",
        "*   Um número é menor ou igual a 10 ou maior ou igual a 20;\n",
        "\n",
        "Imprima uma mensagem informando qual condição foi satisfeita e teste as duas condições com pelo menos um exemplo.\n",
        "\n",
        "\n"
      ],
      "metadata": {
        "id": "6WqPPxiEmQ5v"
      }
    },
    {
      "cell_type": "code",
      "source": [
        "def verifica_numero(x):\n",
        "  if (x > 10) and (x < 20):\n",
        "    print('{} é maior que 10 e menor que 20.'.format(x))\n",
        "  elif (x <= 10) or (x >= 20):\n",
        "    print('{} é menor ou igual a 10 ou maior ou igual a 20.'.format(x))\n",
        "\n",
        "verifica_numero(15)\n",
        "verifica_numero(1)\n",
        "verifica_numero(20)"
      ],
      "metadata": {
        "id": "u49S1azqmbre"
      },
      "execution_count": null,
      "outputs": []
    },
    {
      "cell_type": "markdown",
      "source": [
        "4. Crie uma calculadora que dadas duas variáveis numéricas e um identificador que caracteriza uma das quatro operações básicas de Soma, Subtração, Multiplicação e Divisão, imprima o resultado da operação.\n",
        "\n",
        "Caso haja alguma operação inválida (como dividir por zero), imprima a mensagem \"Não tente quebrar esta calculadora básica!\".\n",
        "\n",
        "No caso do operador ser desconhecido, imprima a mensagem \"Operador não reconhecido!\".\n",
        "\n",
        "Chame a função testando todos os operadores e um caso onde haja uma divisão por zero.\n",
        "\n",
        "Considere os seguintes identificadores para os operadores:\n",
        "\n",
        "* '+' = Soma\n",
        "* '-' = Subtração\n",
        "* '*' = Multiplicação\n",
        "* '/' = Divisão"
      ],
      "metadata": {
        "id": "3a7neOzdmt2z"
      }
    },
    {
      "cell_type": "code",
      "source": [
        "def calculadora_basica(a, b, operador):\n",
        "    if operador == '+':\n",
        "        print('Soma: {}'.format(a+b))\n",
        "    elif operador == '-':\n",
        "        print('Subtração: {}'.format(a-b))\n",
        "    elif operador == '*':\n",
        "        print('Multiplicação: {}'.format(a*b))\n",
        "    elif operador == '/':\n",
        "        if b != 0:\n",
        "          print('Divisão: {}'.format(a/b))\n",
        "        else:\n",
        "          print(\"Não tente quebrar esta calculadora básica!\")\n",
        "    else:\n",
        "        print('Operador não reconhecido!')\n",
        "\n",
        "calculadora_basica(7, 5, '+')\n",
        "calculadora_basica(7, 9, '-')\n",
        "calculadora_basica(505, 4, '*')\n",
        "calculadora_basica(754, 3, \"/\")\n",
        "calculadora_basica(9, 0, \"/\")\n",
        "calculadora_basica(9, 0, \"%\")"
      ],
      "metadata": {
        "id": "hRBvPaDEm-RK"
      },
      "execution_count": null,
      "outputs": []
    },
    {
      "cell_type": "markdown",
      "source": [
        "#Teste seu Conhecimento"
      ],
      "metadata": {
        "id": "bKAgDQmsnEFZ"
      }
    },
    {
      "cell_type": "markdown",
      "source": [
        "1. Crie um classificador de código de barras, dado um código de 10 dígitos inteiros e positivos em string.\n",
        "\n",
        "A partir deste código, realize a soma de cada um dos dígitos (S) e classifque o código de barras em relação ao tipo de produto que ele pertence, como segue:\n",
        "\n",
        "* S >= 0 e S<= 20 --> Bomboniére\n",
        "* S >= 21 e S<= 50 --> Higiene\n",
        "* S >= 51 e S<= 100 --> Utensílios\n",
        "* S >= 101 e S<= 500 --> Congelados\n",
        "* S >= 501 e S<= 1000 --> Bebidas\n",
        "* S >= 1001 --> Padaria\n"
      ],
      "metadata": {
        "id": "NYeH2jCvnJdL"
      }
    },
    {
      "cell_type": "code",
      "source": [
        "def classifica_codigo_barras(codigo_barras):\n",
        "    soma = 0\n",
        "    for digito in codigo_barras:\n",
        "      soma = soma + int(digito)\n",
        "\n",
        "    if soma >= 0 and soma <= 20:\n",
        "        print(\"Bomboniére\")\n",
        "    elif soma >= 21 and soma <= 50:\n",
        "        print(\"Higiene\")\n",
        "    elif soma >= 51 and soma <= 100:\n",
        "        print(\"Utensílios\")\n",
        "    elif soma >= 101 and soma <= 500:\n",
        "        print(\"Congelados\")\n",
        "    elif soma >= 501 and soma <= 1000:\n",
        "        print(\"Bebidas\")\n",
        "    elif soma >= 1001:\n",
        "        print(\"Padaria\")\n",
        "\n",
        "classifica_codigo_barras('1980001124')"
      ],
      "metadata": {
        "id": "VFxoPr3bnI4T"
      },
      "execution_count": null,
      "outputs": []
    },
    {
      "cell_type": "markdown",
      "source": [
        "#Orientação a Objetos em Python\n"
      ],
      "metadata": {
        "id": "l9cRgvVvni99"
      }
    },
    {
      "cell_type": "markdown",
      "source": [
        "1. Crie uma classe Pessoa que tenha um atributo de classe idade de valor 18.\n",
        "\n",
        "Instancie um objeto Pessoa e imprima a sua idade."
      ],
      "metadata": {
        "id": "SHhbnsd4nnAO"
      }
    },
    {
      "cell_type": "code",
      "source": [
        "class Pessoa:\n",
        "    idade = 18\n",
        "\n",
        "p1 = Pessoa()\n",
        "print(p1.idade)"
      ],
      "metadata": {
        "id": "naP542IintYV"
      },
      "execution_count": null,
      "outputs": []
    },
    {
      "cell_type": "markdown",
      "source": [
        "2. Crie uma classe Pessoa que tenha os atributos de instância nome (com valor \"Maria\") e idade (com valor 18).\n",
        "\n",
        "Instancie um objeto Pessoa e imprima seu nome e sua idade.\n",
        "\n",
        "Altere o nome deste objeto e imprima novamente seu nome e sua idade."
      ],
      "metadata": {
        "id": "jC472pGRnxIc"
      }
    },
    {
      "cell_type": "code",
      "source": [
        "class Pessoa:\n",
        "    def __init__(self):\n",
        "        self.nome = \"Maria\"\n",
        "        self.idade = 18\n",
        "\n",
        "p1 = Pessoa()\n",
        "print(p1.nome)\n",
        "print(p1.idade)\n",
        "\n",
        "p1.nome = \"Ana\"\n",
        "print(p1.nome)\n",
        "print(p1.idade)"
      ],
      "metadata": {
        "id": "_NceZDZNn-u9"
      },
      "execution_count": null,
      "outputs": []
    },
    {
      "cell_type": "markdown",
      "source": [
        "3.Crie uma classe Pessoa que tenha os atributos de instância nome e idade, cujos valores devem ser recebidos via construtor.\n",
        "\n",
        "Instancie um objeto Pessoa e imprima seu nome e sua idade.\n",
        "\n",
        "Altere o nome deste objeto e imprima novamente seu nome e sua idade."
      ],
      "metadata": {
        "id": "I3QSOtUHoHNP"
      }
    },
    {
      "cell_type": "code",
      "source": [
        "class Pessoa:\n",
        "    def __init__(self, nome, idade):\n",
        "        self.nome = nome\n",
        "        self.idade = idade\n",
        "\n",
        "p1 = Pessoa(\"Pedro\", 36)\n",
        "print(p1.nome)\n",
        "print(p1.idade)\n",
        "\n",
        "p1.nome = \"Marcos\"\n",
        "print(p1.nome)\n",
        "print(p1.idade)\n"
      ],
      "metadata": {
        "id": "UDlmwCYXoPUa"
      },
      "execution_count": null,
      "outputs": []
    },
    {
      "cell_type": "markdown",
      "source": [],
      "metadata": {
        "id": "gFq0Ov4goTPb"
      }
    },
    {
      "cell_type": "markdown",
      "source": [
        "4. Crie uma classe Pessoa similar à do exercício 3, mas incluindo um método faz_apresentacao que imprima \"Olá, meu nome é [nome da pessoa]\".\n",
        "\n",
        "Instancie um objeto Pessoa e chame este método. Altere o nome deste objeto e chame novamente este método.\n",
        "\n"
      ],
      "metadata": {
        "id": "_haiceScoTY_"
      }
    },
    {
      "cell_type": "code",
      "source": [
        "class Pessoa:\n",
        "    def __init__(self, nome, idade):\n",
        "        self.nome = nome\n",
        "        self.idade = idade\n",
        "\n",
        "    def faz_apresentacao(self):\n",
        "        print(\"Olá, meu nome é \" + self.nome)\n",
        "\n",
        "p1 = Pessoa(\"Pedro\", 36)\n",
        "p1.faz_apresentacao()\n",
        "\n",
        "p1.nome = \"Marcos\"\n",
        "p1.faz_apresentacao()"
      ],
      "metadata": {
        "id": "k5SrSHTuolIn"
      },
      "execution_count": null,
      "outputs": []
    },
    {
      "cell_type": "markdown",
      "source": [
        "Crie uma classe Empregado como subclasse de Pessoa (do exercício 4).\n",
        "\n",
        "Instancie um objeto Empregado e chame o método faz_apresentacao."
      ],
      "metadata": {
        "id": "fxu5IFMhoph1"
      }
    },
    {
      "cell_type": "code",
      "source": [
        "class Empregado(Pessoa):\n",
        "    pass\n",
        "\n",
        "e1 = Empregado(\"Thiago\", 45)\n",
        "e1.faz_apresentacao()"
      ],
      "metadata": {
        "id": "bNcmd1-5orzo"
      },
      "execution_count": null,
      "outputs": []
    },
    {
      "cell_type": "markdown",
      "source": [
        "6. Altere sua classe Empregado do exercício 6 para incluir o atributo de instância matricula, que deverá ser preenchido ao criar um objeto Empregado.\n",
        "\n",
        "Agora, o construtor de Empregado deverá chamar o construtor da sua superclasse.\n",
        "\n",
        "Crie também o método bater_ponto, que usa o nome e a matricula do empregado para \"bater ponto\".\n",
        "\n",
        "Instancie um objeto Empregado e chame o método bater_ponto."
      ],
      "metadata": {
        "id": "UxKmnQw0ouyh"
      }
    },
    {
      "cell_type": "code",
      "source": [
        "class Empregado(Pessoa):\n",
        "    def __init__(self, nome, idade, matricula):\n",
        "        super().__init__(nome, idade)   # ou Pessoa.__init__(nome, idade)\n",
        "        self.matricula = matricula\n",
        "\n",
        "    def bater_ponto(self):\n",
        "        print(\"Empregado %s, matrícula %s batendo ponto!\" % (self.nome, self.matricula))\n",
        "\n",
        "\n",
        "e1 = Empregado(\"Gabriel\", 39, 12345)\n",
        "e1.bater_ponto()"
      ],
      "metadata": {
        "id": "6Rz85cWio27H"
      },
      "execution_count": null,
      "outputs": []
    },
    {
      "cell_type": "markdown",
      "source": [
        "7. Crie uma classe Cachorro com atributos de instância tamanho, raca, nome e o método latir, que lata de forma diferente de acordo com o tamanho do cachorro.\n",
        "\n",
        "Depois, crie 3 objetos do tipo Cachorro, variando seus tamanhos, e faça-os latir."
      ],
      "metadata": {
        "id": "gXs6tl-Ho6va"
      }
    },
    {
      "cell_type": "code",
      "source": [
        "class Cachorro:\n",
        "    def __init__(self, tamanho, raca, nome):\n",
        "        self.tamanho = tamanho\n",
        "        self.raca = raca\n",
        "        self.nome = nome\n",
        "\n",
        "    def latir(self):\n",
        "        if self.tamanho < 40:\n",
        "            print(\"< Som de latido agudo >\")\n",
        "        elif self.tamanho > 100:\n",
        "            print(\"< Som de latido grave >\")\n",
        "        else:\n",
        "            print(\"< Som de latido médio >\")"
      ],
      "metadata": {
        "id": "L12r2_4-o_kv"
      },
      "execution_count": null,
      "outputs": []
    },
    {
      "cell_type": "code",
      "source": [
        "cachorro_pequeno = Cachorro(10, \"poodle\", \"Belinha\")\n",
        "cachorro_medio = Cachorro(60, \"vira-lata\", \"Laila\")\n",
        "cachorro_grande = Cachorro(120, \"labrador\", \"Zeus\")\n",
        "\n",
        "cachorro_pequeno.latir()\n",
        "cachorro_medio.latir()\n",
        "cachorro_grande.latir()"
      ],
      "metadata": {
        "id": "nuz64rSlpD4w"
      },
      "execution_count": null,
      "outputs": []
    },
    {
      "cell_type": "markdown",
      "source": [
        "8. Crie uma classe Pessoa com o atributo de instância non-public nome e o método consulta_nome.\n",
        "\n",
        "Crie também uma classe Conta com os atributos de instância non-public numero, saldo, titular, senha e os métodos consulta_numero, consulta_saldo, consulta_titular, consulta_senha e sacar.\n",
        "\n",
        "O método sacar deve receber um valor e uma senha. Se a senha informada for igual à senha da conta, o saque é permitido, mas se o saldo passar a ficar negativo, deve-se imprimir uma mensagem que está no cheque especial.\n",
        "\n",
        "Em seguida, instancie uma pessoa e sua conta, e realize as seguintes operações nesta conta:\n",
        "\n",
        "* consulte o saldo\n",
        "* tente sacar 100 com a senha errada\n",
        "* consulte o saldo novamente\n",
        "* tente sacar 100 com a senha certa\n",
        "* consulte o saldo novamente\n",
        "* tente sacar um valor maior do que o saldo com a senha certa\n",
        "* consulte o saldo novamente"
      ],
      "metadata": {
        "id": "2fT3IfCQpIkK"
      }
    },
    {
      "cell_type": "code",
      "source": [
        "class Pessoa:\n",
        "\n",
        "    def __init__(self, nome):\n",
        "        self.__nome = nome\n",
        "\n",
        "    def consulta_nome(self):\n",
        "        return self.__nome\n",
        "\n",
        "\n",
        "class Conta:\n",
        "\n",
        "    def __init__(self, numero, saldo, titular, senha):\n",
        "        self.__numero = numero\n",
        "        self.__saldo = saldo\n",
        "        self.__titular = titular\n",
        "        self.__senha = senha\n",
        "\n",
        "    def consulta_numero(self):\n",
        "        return self.__numero\n",
        "\n",
        "    def consulta_saldo(self):\n",
        "        print(\"Seu saldo é R$ %.2f\" % self.__saldo)\n",
        "\n",
        "    def consulta_titular(self):\n",
        "        return self.__titular\n",
        "\n",
        "    def consulta_senha(self):\n",
        "        return self.__senha\n",
        "\n",
        "    def sacar(self, valor, senha_informada):\n",
        "        if senha_informada == self.__senha:\n",
        "            self.__saldo -= valor\n",
        "            print(\"Saque realizado!\")\n",
        "            if self.__saldo < 0:\n",
        "                print(\"Você está no cheque especial!\")\n",
        "        else:\n",
        "            print(\"Senha incorreta!\")\n",
        "\n"
      ],
      "metadata": {
        "id": "F2au2l86pWbu"
      },
      "execution_count": null,
      "outputs": []
    },
    {
      "cell_type": "code",
      "source": [
        "# Criando uma pessoa e sua conta\n",
        "pessoa = Pessoa(\"Tatiana\")\n",
        "conta = Conta(1234, 750.84, pessoa, 123)\n",
        "\n",
        "conta.consulta_saldo() # saldo 750.84\n",
        "conta.sacar(100, 456) # tentando sacar 100 com a senha errada\n",
        "conta.consulta_saldo() # saldo continua o mesmo\n",
        "conta.sacar(100, 123) # tentando sacar 100 com a senha certa\n",
        "conta.consulta_saldo() # saldo agora é 650.84\n",
        "conta.sacar(1000, 123) # tentando sacar 1000 com a senha certa, vai entrar no especial\n",
        "conta.consulta_saldo() # saldo agora é -349.16\n"
      ],
      "metadata": {
        "id": "dCqgSFXopbIq"
      },
      "execution_count": null,
      "outputs": []
    }
  ]
}