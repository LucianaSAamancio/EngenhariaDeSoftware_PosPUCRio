{
  "nbformat": 4,
  "nbformat_minor": 0,
  "metadata": {
    "colab": {
      "provenance": [],
      "toc_visible": true
    },
    "kernelspec": {
      "name": "python3",
      "display_name": "Python 3"
    },
    "language_info": {
      "name": "python"
    }
  },
  "cells": [
    {
      "cell_type": "markdown",
      "source": [
        "---\n",
        "---\n",
        "\n",
        "# **Programação Orientada a Objetos**\n",
        "# Prof. Tatiana Escovedo\n",
        "\n",
        "---\n",
        "---\n",
        "Aula 03: Boas práticas de OO e de codificação em Python\n",
        "\n",
        "**Prática 5: SOLID e Guia de Estilos**"
      ],
      "metadata": {
        "id": "IeGQ0b3CbN5o"
      }
    },
    {
      "cell_type": "markdown",
      "source": [
        "## SOLID"
      ],
      "metadata": {
        "id": "1NtrTtqPbctY"
      }
    },
    {
      "cell_type": "markdown",
      "source": [
        "### Princípio da Responsabilidade Única"
      ],
      "metadata": {
        "id": "l9Cow95hbgEg"
      }
    },
    {
      "cell_type": "code",
      "source": [
        "class Animal:\n",
        "\n",
        "    def __init__(self, nome):\n",
        "        self.__nome = nome\n",
        "\n",
        "    def get_nome(self):\n",
        "        return self.__nome\n",
        "\n",
        "    def salvar(self):\n",
        "        # Salva o animal no banco de dados\n",
        "        pass"
      ],
      "metadata": {
        "id": "pzIEAug3bkLE"
      },
      "execution_count": null,
      "outputs": []
    },
    {
      "cell_type": "code",
      "source": [
        "class Animal:\n",
        "\n",
        "    def __init__(self, nome):\n",
        "        self.__nome = nome\n",
        "\n",
        "    def get_nome(self):\n",
        "        return self.__nome\n",
        "\n",
        "\n",
        "class AnimalDAO:\n",
        "\n",
        "    def salvar(self, animal: Animal):\n",
        "        # Salva o animal no banco de dados\n",
        "        pass\n"
      ],
      "metadata": {
        "id": "2PWHQ33vbnFt"
      },
      "execution_count": null,
      "outputs": []
    },
    {
      "cell_type": "markdown",
      "source": [
        "###Princípio Aberto/Fechado"
      ],
      "metadata": {
        "id": "Kvfv6ExNb1DU"
      }
    },
    {
      "cell_type": "code",
      "source": [
        "class Animal:\n",
        "\n",
        "    def __init__(self, nome):\n",
        "        self.__nome = nome\n",
        "\n",
        "    def get_nome(self):\n",
        "        return self.__nome\n",
        "\n",
        "    def faz_som(self):\n",
        "        if self.__nome == \"Cachorro\":\n",
        "            print(\"Au Au\")\n",
        "        if self.__nome == \"Gato\":\n",
        "            print(\"Miau\")"
      ],
      "metadata": {
        "id": "ypLvC4axb8Hk"
      },
      "execution_count": null,
      "outputs": []
    },
    {
      "cell_type": "code",
      "source": [
        "class Animal:\n",
        "\n",
        "    def __init__(self, nome):\n",
        "        self.__nome = nome\n",
        "\n",
        "    def get_nome(self):\n",
        "        return self.__nome\n",
        "\n",
        "    def faz_som(self):\n",
        "        pass\n",
        "\n",
        "\n",
        "class Cachorro(Animal):\n",
        "\n",
        "    def faz_som(self):\n",
        "        print(\"Au Au\")\n",
        "\n",
        "\n",
        "class Gato(Animal):\n",
        "    def faz_som(self):\n",
        "        print(\"Miau\")"
      ],
      "metadata": {
        "id": "UN14yP1Cb9DT"
      },
      "execution_count": null,
      "outputs": []
    },
    {
      "cell_type": "markdown",
      "source": [
        "### Princípio da Substituição de Liskov"
      ],
      "metadata": {
        "id": "2LJbw1WqcE4V"
      }
    },
    {
      "cell_type": "code",
      "source": [
        "class Animal:\n",
        "    pass\n",
        "\n",
        "\n",
        "class Cachorro(Animal):\n",
        "\n",
        "    def latir(self):\n",
        "        print(\"Au Au\")\n",
        "\n",
        "\n",
        "class Gato(Animal):\n",
        "\n",
        "    def miar(self):\n",
        "        print(\"Miau\")\n",
        "\n",
        "\n",
        "class Dono:\n",
        "\n",
        "    def passear(self, cachorro: Cachorro):\n",
        "        cachorro.latir()"
      ],
      "metadata": {
        "id": "7i84fA-ocLWp"
      },
      "execution_count": null,
      "outputs": []
    },
    {
      "cell_type": "code",
      "source": [
        "class Animal:\n",
        "\n",
        "    def faz_som(self):\n",
        "        pass\n",
        "\n",
        "\n",
        "class Cachorro(Animal):\n",
        "\n",
        "    def faz_som(self):\n",
        "        self.__latir()\n",
        "\n",
        "    def __latir(self):\n",
        "        print(\"Au Au\")\n",
        "\n",
        "\n",
        "class Gato(Animal):\n",
        "\n",
        "    def faz_som(self):\n",
        "        self.__miar()\n",
        "\n",
        "    def __miar(self):\n",
        "        print(\"Miau\")\n",
        "\n",
        "\n",
        "class Dono:\n",
        "\n",
        "    def passear(self, animal: Animal):\n",
        "        animal.faz_som()"
      ],
      "metadata": {
        "id": "FFohRVW8cQ11"
      },
      "execution_count": null,
      "outputs": []
    },
    {
      "cell_type": "markdown",
      "source": [
        "### Princípio da Segregação de Interfaces"
      ],
      "metadata": {
        "id": "qPrguTgncVAA"
      }
    },
    {
      "cell_type": "code",
      "source": [
        "class ImpressoraFazTudo:\n",
        "\n",
        "    def imprime(self):\n",
        "        pass\n",
        "\n",
        "    def digitaliza(self):\n",
        "        pass\n",
        "\n",
        "    def envia_fax(self):\n",
        "        pass"
      ],
      "metadata": {
        "id": "2qywINe0cWwQ"
      },
      "execution_count": null,
      "outputs": []
    },
    {
      "cell_type": "code",
      "source": [
        "class ImpressoraMultifuncional(ImpressoraFazTudo):\n",
        "\n",
        "    def imprime(self):\n",
        "        pass\n",
        "\n",
        "    def escaneia(self):\n",
        "        pass\n",
        "\n",
        "    def envia_fax(self):\n",
        "        pass"
      ],
      "metadata": {
        "id": "h7p81giCccfV"
      },
      "execution_count": null,
      "outputs": []
    },
    {
      "cell_type": "code",
      "source": [
        "class Impressora:\n",
        "\n",
        "    def imprime(self):\n",
        "        pass\n",
        "\n",
        "\n",
        "class Digitalizadora:\n",
        "\n",
        "    def digitaliza(self):\n",
        "        pass\n",
        "\n",
        "class Fax:\n",
        "\n",
        "    def envia_fax(self):\n",
        "        pass"
      ],
      "metadata": {
        "id": "Fu8Q_08jchWh"
      },
      "execution_count": null,
      "outputs": []
    },
    {
      "cell_type": "code",
      "source": [
        "class ImpressoraMultifuncional(Impressora, Digitalizadora, Fax):\n",
        "\n",
        "    def imprime(self):\n",
        "        pass\n",
        "\n",
        "    def escaneia(self):\n",
        "        pass\n",
        "\n",
        "    def envia_fax(self):\n",
        "        pass\n",
        "\n",
        "\n",
        "# A classe ImpressoraPadrao pode utilizar somente o método que precisa:\n",
        "class ImpressoraPadrao(Impressora):\n",
        "\n",
        "    def imprime(self):\n",
        "        pass"
      ],
      "metadata": {
        "id": "qMVYpUCSckh0"
      },
      "execution_count": null,
      "outputs": []
    },
    {
      "cell_type": "markdown",
      "source": [
        "### Princípio da Inversão de Dependências"
      ],
      "metadata": {
        "id": "zSeqhcJ-cpEg"
      }
    },
    {
      "cell_type": "code",
      "source": [
        "class Animal:\n",
        "\n",
        "    def faz_som(self):\n",
        "        pass\n",
        "\n",
        "\n",
        "class Cachorro(Animal):\n",
        "\n",
        "    def faz_som(self):\n",
        "        self.latir()\n",
        "\n",
        "    def latir(self):\n",
        "        print(\"Au Au\")\n",
        "\n",
        "\n",
        "class Gato(Animal):\n",
        "\n",
        "    def faz_som(self):\n",
        "        self.miar()\n",
        "\n",
        "    def miar(self):\n",
        "        print(\"Miau\")"
      ],
      "metadata": {
        "id": "6w7xjarzcrqZ"
      },
      "execution_count": null,
      "outputs": []
    },
    {
      "cell_type": "code",
      "source": [
        "class Dono:\n",
        "\n",
        "    def passear(self, cachorro: Cachorro):\n",
        "        cachorro.latir()"
      ],
      "metadata": {
        "id": "PltXZRqXcu17"
      },
      "execution_count": null,
      "outputs": []
    },
    {
      "cell_type": "code",
      "source": [
        "class Dono:\n",
        "\n",
        "  def passear(self, animal: Animal):\n",
        "        animal.faz_som()"
      ],
      "metadata": {
        "id": "QJa2tdnFczI6"
      },
      "execution_count": null,
      "outputs": []
    },
    {
      "cell_type": "markdown",
      "source": [
        "## Guia de Estilos"
      ],
      "metadata": {
        "id": "YYx1GOCWc402"
      }
    },
    {
      "cell_type": "code",
      "source": [
        "import this"
      ],
      "metadata": {
        "colab": {
          "base_uri": "https://localhost:8080/"
        },
        "id": "U2On6_gWdAfK",
        "outputId": "7e330059-da24-4ee9-ae85-77f5072b97b7"
      },
      "execution_count": null,
      "outputs": [
        {
          "output_type": "stream",
          "name": "stdout",
          "text": [
            "The Zen of Python, by Tim Peters\n",
            "\n",
            "Beautiful is better than ugly.\n",
            "Explicit is better than implicit.\n",
            "Simple is better than complex.\n",
            "Complex is better than complicated.\n",
            "Flat is better than nested.\n",
            "Sparse is better than dense.\n",
            "Readability counts.\n",
            "Special cases aren't special enough to break the rules.\n",
            "Although practicality beats purity.\n",
            "Errors should never pass silently.\n",
            "Unless explicitly silenced.\n",
            "In the face of ambiguity, refuse the temptation to guess.\n",
            "There should be one-- and preferably only one --obvious way to do it.\n",
            "Although that way may not be obvious at first unless you're Dutch.\n",
            "Now is better than never.\n",
            "Although never is often better than *right* now.\n",
            "If the implementation is hard to explain, it's a bad idea.\n",
            "If the implementation is easy to explain, it may be a good idea.\n",
            "Namespaces are one honking great idea -- let's do more of those!\n"
          ]
        }
      ]
    }
  ]
}