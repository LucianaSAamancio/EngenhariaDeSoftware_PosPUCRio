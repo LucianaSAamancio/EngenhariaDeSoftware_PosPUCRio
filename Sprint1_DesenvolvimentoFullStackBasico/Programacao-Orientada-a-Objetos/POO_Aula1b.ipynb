{
  "nbformat": 4,
  "nbformat_minor": 0,
  "metadata": {
    "colab": {
      "provenance": [],
      "toc_visible": true
    },
    "kernelspec": {
      "name": "python3",
      "display_name": "Python 3"
    },
    "language_info": {
      "name": "python"
    }
  },
  "cells": [
    {
      "cell_type": "markdown",
      "source": [
        "---\n",
        "---\n",
        "\n",
        "# **Programação Orientada a Objetos**\n",
        "# Prof. Tatiana Escovedo\n",
        "\n",
        "---\n",
        "---\n",
        "\n",
        "## Aula 01: Introdução a Python e Orientação a Objetos\n",
        "\n",
        "### **Prática 2: Criando os primeiros programas em Python**"
      ],
      "metadata": {
        "id": "Mf5tk24NwSkw"
      }
    },
    {
      "cell_type": "markdown",
      "source": [
        "### Programa 1: Quem é você?"
      ],
      "metadata": {
        "id": "fnYZLXGnxiu4"
      }
    },
    {
      "cell_type": "code",
      "execution_count": 2,
      "metadata": {
        "colab": {
          "base_uri": "https://localhost:8080/"
        },
        "id": "hNYqm2VpwGOv",
        "outputId": "fda74508-7f60-4560-d372-12102a930be2"
      },
      "outputs": [
        {
          "output_type": "stream",
          "name": "stdout",
          "text": [
            "Como posso te chamar?Luciana SA Amancio\n",
            "Olá, Luciana SA Amancio\n"
          ]
        }
      ],
      "source": [
        "nome = input(\"Como posso te chamar?\") # mensagem a ser exibida na tela\n",
        "print(\"Olá,\", nome) # imprime \"Olá\" concatenado com o nome inserido pelo usuário"
      ]
    },
    {
      "cell_type": "markdown",
      "source": [
        "### Programa 2: Aluno aprovado?"
      ],
      "metadata": {
        "id": "323CmA_uxyVM"
      }
    },
    {
      "cell_type": "code",
      "source": [
        "print(\"**************************************\")\n",
        "print(\"O aluno foi aprovado?\")\n",
        "print(\"**************************************\")\n",
        "\n",
        "nota_1 = float(input(\"Nota 1: \"))\n",
        "nota_2 = float(input(\"Nota 2: \"))\n",
        "nota_3 = float(input(\"Nota 3: \"))\n",
        "\n",
        "media = (nota_1 + nota_2 + nota_3)/3 # calcula a média\n",
        "\n",
        "if media >= 7:\n",
        "    print(\"O aluno foi APROVADO! Sua média foi %.2f\" % media)\n",
        "elif media < 3:\n",
        "    print(\"O aluno foi REPROVADO! Sua média foi %.2f\" % media)\n",
        "else:\n",
        "    print(\"O aluno ficou em PROVA FINAL! Sua média foi %.2f\" % media)"
      ],
      "metadata": {
        "colab": {
          "base_uri": "https://localhost:8080/"
        },
        "id": "AQ1VTUc6x1_N",
        "outputId": "1b13e33f-4c95-456f-e1a2-57e6de4526d3"
      },
      "execution_count": 4,
      "outputs": [
        {
          "output_type": "stream",
          "name": "stdout",
          "text": [
            "**************************************\n",
            "O aluno foi aprovado?\n",
            "**************************************\n",
            "Nota 1: 5\n",
            "Nota 2: 3\n",
            "Nota 3: 10\n",
            "O aluno ficou em PROVA FINAL! Sua média foi 6.00\n"
          ]
        }
      ]
    },
    {
      "cell_type": "markdown",
      "source": [
        "### Programa 3: Calculadora simples em Python"
      ],
      "metadata": {
        "id": "CXEz9YKNx6-V"
      }
    },
    {
      "cell_type": "code",
      "source": [
        "def bem_vindo():\n",
        "    print(\"**************************************\")\n",
        "    print(\"Calculadora simples em Python\")\n",
        "    print(\"**************************************\")\n",
        "    calcular()\n",
        "\n",
        "def calcular():\n",
        "\n",
        "    print(\"\\nQual operação deseja executar? (1) Soma (2) Subtração (3) Multiplicação (4) Divisão (5) Outra\")\n",
        "    operacao = int(input(\"Digite a operação a ser realizada: \"))\n",
        "\n",
        "    if(operacao != 1 and operacao != 2 and operacao != 3 and operacao != 4 ):\n",
        "        print(\"Desculpe, esta calculadora ainda não suporta outras operações. Por favor, execute o programa novamente.\")\n",
        "        return\n",
        "\n",
        "    primeiro_numero = int(input(\"Digite o primeiro número: \"))\n",
        "    segundo_numero = int(input(\"Digite o segundo número: \"))\n",
        "\n",
        "    if(operacao == 1):\n",
        "        print(\"O resultado é\", primeiro_numero + segundo_numero)\n",
        "    elif(operacao == 2):\n",
        "        print(\"O resultado é\", primeiro_numero - segundo_numero)\n",
        "    elif(operacao == 3):\n",
        "        print(\"O resultado é\", primeiro_numero * segundo_numero)\n",
        "    else:\n",
        "        print(\"O resultado é\", primeiro_numero / segundo_numero)\n",
        "\n",
        "    calcular_outra_vez()\n",
        "\n",
        "\n",
        "def calcular_outra_vez():\n",
        "    outra_vez = input(\"Deseja realizar outra operação? Por favor, digite S para SIM ou N para NÃO: \")\n",
        "\n",
        "    if outra_vez.upper() == 'S':\n",
        "        calcular()\n",
        "    elif outra_vez.upper() == 'N':\n",
        "        print('Até a próxima!')\n",
        "    else:\n",
        "        print(\"Opção inválida.\")\n",
        "        calcular_outra_vez()"
      ],
      "metadata": {
        "id": "wODZSAScyFCp"
      },
      "execution_count": 11,
      "outputs": []
    }
  ]
}