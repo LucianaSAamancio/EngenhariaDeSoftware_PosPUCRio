{
  "nbformat": 4,
  "nbformat_minor": 0,
  "metadata": {
    "colab": {
      "provenance": [],
      "toc_visible": true
    },
    "kernelspec": {
      "name": "python3",
      "display_name": "Python 3"
    },
    "language_info": {
      "name": "python"
    }
  },
  "cells": [
    {
      "cell_type": "markdown",
      "source": [
        "---\n",
        "---\n",
        "\n",
        "# **Programação Orientada a Objetos**\n",
        "# Prof. Tatiana Escovedo\n",
        "\n",
        "---\n",
        "---\n",
        "Aula 02: Os 4 pilares da Orientação a Objetos\n",
        "\n",
        "**Prática 4: Orientação a Objetos**"
      ],
      "metadata": {
        "id": "yfjWmnjtxwW2"
      }
    },
    {
      "cell_type": "markdown",
      "source": [
        "## Introdução à Orientação a Objetos"
      ],
      "metadata": {
        "id": "-4L-3lMoykNN"
      }
    },
    {
      "cell_type": "code",
      "source": [
        "class Pessoa:\n",
        "\n",
        "    def __init__(self, nome):\n",
        "        self.nome = nome\n",
        "\n",
        "    def __str__(self):\n",
        "        return self.nome\n",
        "\n",
        "pessoa_1 = Pessoa(\"João\")\n",
        "print(pessoa_1)\n",
        "\n",
        "pessoa_2 = Pessoa(\"Maria\")\n",
        "print(pessoa_2)"
      ],
      "metadata": {
        "colab": {
          "base_uri": "https://localhost:8080/"
        },
        "id": "SyFCZT8lyrhi",
        "outputId": "9886292f-ebe4-4872-bc39-7d82920250aa"
      },
      "execution_count": null,
      "outputs": [
        {
          "output_type": "stream",
          "name": "stdout",
          "text": [
            "João\n",
            "Maria\n"
          ]
        }
      ]
    },
    {
      "cell_type": "code",
      "source": [
        "class ListaDeNumeros:\n",
        "\n",
        "    def __init__(self, numeros):\n",
        "        self.numeros = numeros\n",
        "\n",
        "    def __str__(self):\n",
        "        return \", \".join([str(n) for n in self.numeros])\n",
        "\n",
        "    def soma(self):\n",
        "        return sum(self.numeros)\n",
        "\n",
        "    def media(self):\n",
        "        return self.soma()/len(self.numeros)\n",
        "\n",
        "minha_lista = ListaDeNumeros([1,3,5,7,9])\n",
        "\n",
        "print(f\"A soma de {minha_lista} é {minha_lista.soma()}\")\n",
        "print(f\"A média de {minha_lista} é {minha_lista.media()}\")"
      ],
      "metadata": {
        "colab": {
          "base_uri": "https://localhost:8080/"
        },
        "id": "-UtD8sv9y0z4",
        "outputId": "d94e0c04-eb1b-4b69-990d-f565bbedae57"
      },
      "execution_count": null,
      "outputs": [
        {
          "output_type": "stream",
          "name": "stdout",
          "text": [
            "A soma de 1, 3, 5, 7, 9 é 25\n",
            "A média de 1, 3, 5, 7, 9 é 5.0\n"
          ]
        }
      ]
    },
    {
      "cell_type": "code",
      "source": [
        "class Pessoa:\n",
        "\n",
        "    num_pessoas = 0\n",
        "\n",
        "    def __init__(self, nome):\n",
        "        self.nome = nome\n",
        "        Pessoa.num_pessoas +=1\n",
        "\n",
        "nomes = ['João', 'Paulo', 'George', 'Ringo']\n",
        "pessoas = [Pessoa(nome) for nome in nomes]\n",
        "\n",
        "Pessoa.num_pessoas\n",
        "\n",
        "pessoas[0].nome"
      ],
      "metadata": {
        "colab": {
          "base_uri": "https://localhost:8080/",
          "height": 36
        },
        "id": "LLJC_L4ay8ez",
        "outputId": "91b4920f-052a-4df4-f734-bc3772cb0c8a"
      },
      "execution_count": null,
      "outputs": [
        {
          "output_type": "execute_result",
          "data": {
            "text/plain": [
              "'João'"
            ],
            "application/vnd.google.colaboratory.intrinsic+json": {
              "type": "string"
            }
          },
          "metadata": {},
          "execution_count": 3
        }
      ]
    },
    {
      "cell_type": "code",
      "source": [
        "class Calculadora:\n",
        "\n",
        "    def soma(self, a, b):\n",
        "        res = a + b\n",
        "        return res\n",
        "\n",
        "calculadora = Calculadora()\n",
        "calculadora.soma(2,3)"
      ],
      "metadata": {
        "colab": {
          "base_uri": "https://localhost:8080/"
        },
        "id": "-Xoyk1QPzA3_",
        "outputId": "ac3029d2-ffcc-4121-e7f0-229eee1ff125"
      },
      "execution_count": null,
      "outputs": [
        {
          "output_type": "execute_result",
          "data": {
            "text/plain": [
              "5"
            ]
          },
          "metadata": {},
          "execution_count": 4
        }
      ]
    },
    {
      "cell_type": "markdown",
      "source": [
        "## Encapsulamento"
      ],
      "metadata": {
        "id": "8LV655a6zD6L"
      }
    },
    {
      "cell_type": "code",
      "source": [
        "class Conta:\n",
        "\n",
        "    def __init__(self, numero, saldo):\n",
        "        self.numero = numero\n",
        "        self.__saldo = saldo\n",
        "\n",
        "conta1234 = Conta(1234, 750.84)\n",
        "conta1234.numero"
      ],
      "metadata": {
        "colab": {
          "base_uri": "https://localhost:8080/"
        },
        "id": "ha4WaxlvzGDQ",
        "outputId": "91c73fbd-20ce-4ab0-c0c9-a0f415c5e313"
      },
      "execution_count": null,
      "outputs": [
        {
          "output_type": "execute_result",
          "data": {
            "text/plain": [
              "1234"
            ]
          },
          "metadata": {},
          "execution_count": 5
        }
      ]
    },
    {
      "cell_type": "code",
      "source": [
        "conta1234.__saldo"
      ],
      "metadata": {
        "colab": {
          "base_uri": "https://localhost:8080/",
          "height": 141
        },
        "id": "syJny6B1zNwm",
        "outputId": "88560a35-01ae-4023-e38c-3ccb8c456a52"
      },
      "execution_count": null,
      "outputs": [
        {
          "output_type": "error",
          "ename": "AttributeError",
          "evalue": "'Conta' object has no attribute '__saldo'",
          "traceback": [
            "\u001b[0;31m---------------------------------------------------------------------------\u001b[0m",
            "\u001b[0;31mAttributeError\u001b[0m                            Traceback (most recent call last)",
            "\u001b[0;32m<ipython-input-9-8a0b030f5094>\u001b[0m in \u001b[0;36m<cell line: 0>\u001b[0;34m()\u001b[0m\n\u001b[0;32m----> 1\u001b[0;31m \u001b[0mconta1234\u001b[0m\u001b[0;34m.\u001b[0m\u001b[0m__saldo\u001b[0m\u001b[0;34m\u001b[0m\u001b[0;34m\u001b[0m\u001b[0m\n\u001b[0m",
            "\u001b[0;31mAttributeError\u001b[0m: 'Conta' object has no attribute '__saldo'"
          ]
        }
      ]
    },
    {
      "cell_type": "code",
      "source": [
        "conta1234._Conta__saldo"
      ],
      "metadata": {
        "colab": {
          "base_uri": "https://localhost:8080/"
        },
        "id": "UuL4WeqqzPld",
        "outputId": "10092c14-fbd0-4543-de5a-fc2bbd3cbd43"
      },
      "execution_count": null,
      "outputs": [
        {
          "output_type": "execute_result",
          "data": {
            "text/plain": [
              "750.84"
            ]
          },
          "metadata": {},
          "execution_count": 10
        }
      ]
    },
    {
      "cell_type": "code",
      "source": [
        "dir(conta1234)"
      ],
      "metadata": {
        "colab": {
          "base_uri": "https://localhost:8080/"
        },
        "id": "Taaodfv2zT19",
        "outputId": "cda55d7f-4457-4c0f-aece-4f9e1e222857"
      },
      "execution_count": null,
      "outputs": [
        {
          "output_type": "execute_result",
          "data": {
            "text/plain": [
              "['_Conta__saldo',\n",
              " '__class__',\n",
              " '__delattr__',\n",
              " '__dict__',\n",
              " '__dir__',\n",
              " '__doc__',\n",
              " '__eq__',\n",
              " '__format__',\n",
              " '__ge__',\n",
              " '__getattribute__',\n",
              " '__getstate__',\n",
              " '__gt__',\n",
              " '__hash__',\n",
              " '__init__',\n",
              " '__init_subclass__',\n",
              " '__le__',\n",
              " '__lt__',\n",
              " '__module__',\n",
              " '__ne__',\n",
              " '__new__',\n",
              " '__reduce__',\n",
              " '__reduce_ex__',\n",
              " '__repr__',\n",
              " '__setattr__',\n",
              " '__sizeof__',\n",
              " '__str__',\n",
              " '__subclasshook__',\n",
              " '__weakref__',\n",
              " 'numero']"
            ]
          },
          "metadata": {},
          "execution_count": 11
        }
      ]
    },
    {
      "cell_type": "code",
      "source": [
        "conta1234.__saldo = 1000"
      ],
      "metadata": {
        "id": "HjRVQko00ew7"
      },
      "execution_count": null,
      "outputs": []
    },
    {
      "cell_type": "code",
      "source": [
        "conta1234._Conta__saldo"
      ],
      "metadata": {
        "colab": {
          "base_uri": "https://localhost:8080/"
        },
        "id": "PNnAwHay0kGf",
        "outputId": "120f2368-e6bc-4f74-f7a6-21065a387381"
      },
      "execution_count": null,
      "outputs": [
        {
          "output_type": "execute_result",
          "data": {
            "text/plain": [
              "750.84"
            ]
          },
          "metadata": {},
          "execution_count": 13
        }
      ]
    },
    {
      "cell_type": "code",
      "source": [
        "dir(conta1234)"
      ],
      "metadata": {
        "colab": {
          "base_uri": "https://localhost:8080/"
        },
        "id": "PcI9KRW60paL",
        "outputId": "d4d07a9e-acf6-4c5f-8e9c-a2478d9b1fc6"
      },
      "execution_count": null,
      "outputs": [
        {
          "output_type": "execute_result",
          "data": {
            "text/plain": [
              "['_Conta__saldo',\n",
              " '__class__',\n",
              " '__delattr__',\n",
              " '__dict__',\n",
              " '__dir__',\n",
              " '__doc__',\n",
              " '__eq__',\n",
              " '__format__',\n",
              " '__ge__',\n",
              " '__getattribute__',\n",
              " '__getstate__',\n",
              " '__gt__',\n",
              " '__hash__',\n",
              " '__init__',\n",
              " '__init_subclass__',\n",
              " '__le__',\n",
              " '__lt__',\n",
              " '__module__',\n",
              " '__ne__',\n",
              " '__new__',\n",
              " '__reduce__',\n",
              " '__reduce_ex__',\n",
              " '__repr__',\n",
              " '__saldo',\n",
              " '__setattr__',\n",
              " '__sizeof__',\n",
              " '__str__',\n",
              " '__subclasshook__',\n",
              " '__weakref__',\n",
              " 'numero']"
            ]
          },
          "metadata": {},
          "execution_count": 15
        }
      ]
    },
    {
      "cell_type": "code",
      "source": [
        "class Conta:\n",
        "\n",
        "    def __init__(self, numero, saldo):\n",
        "        self.__numero = numero\n",
        "        self.__saldo = saldo\n",
        "\n",
        "    def consulta_saldo(self):\n",
        "        return self.__saldo\n",
        "\n",
        "conta1234 = Conta(1234, 750.84)\n",
        "conta1234.consulta_saldo()"
      ],
      "metadata": {
        "colab": {
          "base_uri": "https://localhost:8080/"
        },
        "id": "oaKjqSQn0tnu",
        "outputId": "c9b2d2c4-ca4c-4489-9e07-0cdf69a80473"
      },
      "execution_count": null,
      "outputs": [
        {
          "output_type": "execute_result",
          "data": {
            "text/plain": [
              "750.84"
            ]
          },
          "metadata": {},
          "execution_count": 16
        }
      ]
    },
    {
      "cell_type": "markdown",
      "source": [
        "## Herança"
      ],
      "metadata": {
        "id": "OpCjBoVo0zq1"
      }
    },
    {
      "cell_type": "code",
      "source": [
        "# Classe Pessoa\n",
        "class Pessoa:\n",
        "\n",
        "    def __init__(self, nome, login, senha):\n",
        "        self.__nome = nome\n",
        "        self.__login = login\n",
        "        self.__senha = senha\n",
        "\n",
        "    def consulta_nome(self):\n",
        "        return self.__nome\n",
        "\n",
        "# Classe Aluno\n",
        "class Aluno(Pessoa):\n",
        "\n",
        "    def __init__(self, nome, login, senha, curso):\n",
        "        Pessoa.__init__(self, nome, login, senha)\n",
        "        self.__curso = curso\n",
        "\n",
        "    def consulta_curso(self):\n",
        "        return self.__curso\n",
        "\n",
        "# Classe Professor\n",
        "class Professor(Pessoa):\n",
        "\n",
        "    def __init__(self, nome, login, senha, titulacao):\n",
        "        Pessoa.__init__(self, nome, login, senha)\n",
        "        self.__titulacao = titulacao\n",
        "\n",
        "    def consulta_titulacao(self):\n",
        "        return self.__titulacao"
      ],
      "metadata": {
        "id": "AeB12ZU303Yj"
      },
      "execution_count": null,
      "outputs": []
    },
    {
      "cell_type": "code",
      "source": [
        "pessoa1 = Pessoa('Maria', 'mary', 'm123')\n",
        "print(pessoa1.consulta_nome())\n",
        "\n",
        "aluna1 = Aluno('Viviane', 'vivi', 'v123', 'Informática')\n",
        "print(aluna1.consulta_nome())\n",
        "print(aluna1.consulta_curso())\n",
        "\n",
        "prof1 = Professor('Tatiana', 'tati', 't123', 'Doutorado')\n",
        "print(prof1.consulta_nome())\n",
        "print(prof1.consulta_titulacao())"
      ],
      "metadata": {
        "colab": {
          "base_uri": "https://localhost:8080/"
        },
        "id": "gFOWFkoB08HX",
        "outputId": "b17aa541-5736-4092-b7b7-c514777778b3"
      },
      "execution_count": null,
      "outputs": [
        {
          "output_type": "stream",
          "name": "stdout",
          "text": [
            "Maria\n",
            "Viviane\n",
            "Informática\n",
            "Tatiana\n",
            "Doutorado\n"
          ]
        }
      ]
    },
    {
      "cell_type": "markdown",
      "source": [
        "## Polimorfismo"
      ],
      "metadata": {
        "id": "eWKHUP1j1Che"
      }
    },
    {
      "cell_type": "code",
      "source": [
        "class EntradaUniversidade:\n",
        "\n",
        "    def __init__(self):\n",
        "        pass\n",
        "\n",
        "    def permite_entrada(self, pessoa):\n",
        "        print(\"Pode entrar, \" + pessoa.consulta_nome())\n",
        "\n",
        "entrada = EntradaUniversidade()\n",
        "entrada.permite_entrada(prof1)"
      ],
      "metadata": {
        "colab": {
          "base_uri": "https://localhost:8080/"
        },
        "id": "WY5T1n191Krg",
        "outputId": "867d11fc-d636-41cf-92c2-a9bbf055bc7e"
      },
      "execution_count": null,
      "outputs": [
        {
          "output_type": "stream",
          "name": "stdout",
          "text": [
            "Pode entrar, Tatiana\n"
          ]
        }
      ]
    },
    {
      "cell_type": "code",
      "source": [
        "# Classe Coordenador\n",
        "class Coordenador(Pessoa):\n",
        "    def __init__(self, nome, login, senha):\n",
        "        Pessoa.__init__(self, nome, login, senha)\n",
        "\n",
        "coord1 = Coordenador('Marcos', 'mk', 'm123')\n",
        "entrada.permite_entrada(coord1)"
      ],
      "metadata": {
        "colab": {
          "base_uri": "https://localhost:8080/",
          "height": 193
        },
        "id": "AqnnpOGx1Lb6",
        "outputId": "b2fd7c69-7204-4e12-a680-2287cf1f140e"
      },
      "execution_count": null,
      "outputs": [
        {
          "output_type": "error",
          "ename": "TypeError",
          "evalue": "Can't instantiate abstract class Coordenador with abstract method consulta_nome",
          "traceback": [
            "\u001b[0;31m---------------------------------------------------------------------------\u001b[0m",
            "\u001b[0;31mTypeError\u001b[0m                                 Traceback (most recent call last)",
            "\u001b[0;32m<ipython-input-27-df51c7d30087>\u001b[0m in \u001b[0;36m<cell line: 0>\u001b[0;34m()\u001b[0m\n\u001b[1;32m      4\u001b[0m         \u001b[0mPessoa\u001b[0m\u001b[0;34m.\u001b[0m\u001b[0m__init__\u001b[0m\u001b[0;34m(\u001b[0m\u001b[0mself\u001b[0m\u001b[0;34m,\u001b[0m \u001b[0mnome\u001b[0m\u001b[0;34m,\u001b[0m \u001b[0mlogin\u001b[0m\u001b[0;34m,\u001b[0m \u001b[0msenha\u001b[0m\u001b[0;34m)\u001b[0m\u001b[0;34m\u001b[0m\u001b[0;34m\u001b[0m\u001b[0m\n\u001b[1;32m      5\u001b[0m \u001b[0;34m\u001b[0m\u001b[0m\n\u001b[0;32m----> 6\u001b[0;31m \u001b[0mcoord1\u001b[0m \u001b[0;34m=\u001b[0m \u001b[0mCoordenador\u001b[0m\u001b[0;34m(\u001b[0m\u001b[0;34m'Marcos'\u001b[0m\u001b[0;34m,\u001b[0m \u001b[0;34m'mk'\u001b[0m\u001b[0;34m,\u001b[0m \u001b[0;34m'm123'\u001b[0m\u001b[0;34m)\u001b[0m\u001b[0;34m\u001b[0m\u001b[0;34m\u001b[0m\u001b[0m\n\u001b[0m\u001b[1;32m      7\u001b[0m \u001b[0mentrada\u001b[0m\u001b[0;34m.\u001b[0m\u001b[0mpermite_entrada\u001b[0m\u001b[0;34m(\u001b[0m\u001b[0mcoord1\u001b[0m\u001b[0;34m)\u001b[0m\u001b[0;34m\u001b[0m\u001b[0;34m\u001b[0m\u001b[0m\n",
            "\u001b[0;31mTypeError\u001b[0m: Can't instantiate abstract class Coordenador with abstract method consulta_nome"
          ]
        }
      ]
    },
    {
      "cell_type": "markdown",
      "source": [
        "## Abstração\n"
      ],
      "metadata": {
        "id": "rilN3qu61UCh"
      }
    },
    {
      "cell_type": "code",
      "source": [
        "import abc\n",
        "\n",
        "class Pessoa(abc.ABC):\n",
        "\n",
        "    def __init__(self, nome, login, senha):\n",
        "        self.nome = nome\n",
        "        self.login = login\n",
        "        self.senha = senha\n",
        "\n",
        "    @abc.abstractmethod\n",
        "    def consulta_nome(self):\n",
        "        raise NotImplementedError()"
      ],
      "metadata": {
        "id": "yI1DxPQg1Xw-"
      },
      "execution_count": null,
      "outputs": []
    },
    {
      "cell_type": "code",
      "source": [
        "pessoa1 = Pessoa()"
      ],
      "metadata": {
        "colab": {
          "base_uri": "https://localhost:8080/",
          "height": 141
        },
        "id": "6eyFQzo_1gLV",
        "outputId": "2a64a258-2ab8-4960-d1dc-9d2eae0f0b91"
      },
      "execution_count": null,
      "outputs": [
        {
          "output_type": "error",
          "ename": "TypeError",
          "evalue": "Can't instantiate abstract class Pessoa with abstract method consulta_nome",
          "traceback": [
            "\u001b[0;31m---------------------------------------------------------------------------\u001b[0m",
            "\u001b[0;31mTypeError\u001b[0m                                 Traceback (most recent call last)",
            "\u001b[0;32m<ipython-input-25-c8c545d518e4>\u001b[0m in \u001b[0;36m<cell line: 0>\u001b[0;34m()\u001b[0m\n\u001b[0;32m----> 1\u001b[0;31m \u001b[0mpessoa1\u001b[0m \u001b[0;34m=\u001b[0m \u001b[0mPessoa\u001b[0m\u001b[0;34m(\u001b[0m\u001b[0;34m)\u001b[0m\u001b[0;34m\u001b[0m\u001b[0;34m\u001b[0m\u001b[0m\n\u001b[0m",
            "\u001b[0;31mTypeError\u001b[0m: Can't instantiate abstract class Pessoa with abstract method consulta_nome"
          ]
        }
      ]
    },
    {
      "cell_type": "markdown",
      "source": [
        "##Associação, Agregação e Composição"
      ],
      "metadata": {
        "id": "cdbH2Yx41j3k"
      }
    },
    {
      "cell_type": "code",
      "source": [
        "class Aluno(Pessoa):\n",
        "\n",
        "    def __init__(self, nome, login, senha, curso, orientador):\n",
        "        Pessoa.__init__(self, nome, login, senha)\n",
        "        self.__curso = curso\n",
        "        self.__orientador = orientador\n",
        "\n",
        "    def consulta_curso(self):\n",
        "        return self.__curso\n",
        "\n",
        "    def consulta_orientador(self):\n",
        "        return self.__orientador\n",
        "\n",
        "    def consulta_nome(self):\n",
        "        return self.nome"
      ],
      "metadata": {
        "id": "WCDDV_Nm1qQ7"
      },
      "execution_count": null,
      "outputs": []
    },
    {
      "cell_type": "code",
      "source": [
        "professorMarcos = Professor('Marcos', 'mk', 'm123', 'Doutor')\n",
        "\n",
        "novoAluno = Aluno('Isabela', 'isa', 'i123', 'Engenharia', professorMarcos)"
      ],
      "metadata": {
        "id": "HfOskQMF1vdZ"
      },
      "execution_count": null,
      "outputs": []
    },
    {
      "cell_type": "code",
      "source": [
        "import datetime\n",
        "\n",
        "class Historico():\n",
        "\n",
        "    def __init__(self):\n",
        "        self.__data_matricula = datetime.datetime.today()\n",
        "        self.__ocorrencias = []\n",
        "\n",
        "    def imprime(self):\n",
        "        print(\"Matriculado em {}\".format(self.__data_matricula))\n",
        "        print(\"Ocorrências:\")\n",
        "        for o in self.__ocorrencias:\n",
        "            print(\"- \", o)\n",
        "\n",
        "    def add_ocorrencia(self, ocorrencia):\n",
        "        self.__ocorrencias.append(ocorrencia)"
      ],
      "metadata": {
        "id": "2Z7bfSi31zuK"
      },
      "execution_count": null,
      "outputs": []
    },
    {
      "cell_type": "code",
      "source": [
        "class Aluno(Pessoa):\n",
        "\n",
        "    def __init__(self, nome, login, senha, curso, orientador):\n",
        "        Pessoa.__init__(self, nome, login, senha)\n",
        "        self.__curso = curso\n",
        "        self.__orientador = orientador\n",
        "        self.__historico = Historico()\n",
        "\n",
        "    def consulta_curso(self):\n",
        "        return self.__curso\n",
        "\n",
        "    def consulta_orientador(self):\n",
        "        return self.__orientador\n",
        "\n",
        "    def consulta_nome(self):\n",
        "        return self.__nome\n",
        "\n",
        "    def gera_ocorrencia(self, ocorrencia):\n",
        "        self.__historico.add_ocorrencia(ocorrencia)\n",
        "\n",
        "    def consulta_historico(self):\n",
        "        self.__historico.imprime()"
      ],
      "metadata": {
        "id": "0wSmUw4i12m_"
      },
      "execution_count": null,
      "outputs": []
    },
    {
      "cell_type": "code",
      "source": [
        "novoAluno = Aluno('Isabela', 'isa', 'i123', 'Engenharia', professorMarcos)\n",
        "novoAluno.gera_ocorrencia(\"Matriculou-se em Calculo 1\")\n",
        "novoAluno.gera_ocorrencia(\"Nota final de Calculo 1: 9,7\")\n",
        "novoAluno.consulta_historico()"
      ],
      "metadata": {
        "id": "3hui_MyH19sW"
      },
      "execution_count": null,
      "outputs": []
    }
  ]
}